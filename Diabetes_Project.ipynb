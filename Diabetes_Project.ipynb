{
  "nbformat": 4,
  "nbformat_minor": 0,
  "metadata": {
    "colab": {
      "provenance": []
    },
    "kernelspec": {
      "name": "python3",
      "display_name": "Python 3"
    },
    "language_info": {
      "name": "python"
    }
  },
  "cells": [
    {
      "cell_type": "code",
      "execution_count": null,
      "metadata": {
        "id": "A1qlvhbgr4N2"
      },
      "outputs": [],
      "source": [
        "import pandas as pd\n",
        "import numpy as np\n",
        "import seaborn as sns\n",
        "import matplotlib.pyplot as plt"
      ]
    },
    {
      "cell_type": "code",
      "source": [
        "from google.colab import files\n",
        "up = files.upload()"
      ],
      "metadata": {
        "colab": {
          "base_uri": "https://localhost:8080/",
          "height": 73
        },
        "id": "9AWC-WCQr8eF",
        "outputId": "44a2cefe-266b-446c-f608-7aa95b57aede"
      },
      "execution_count": null,
      "outputs": [
        {
          "output_type": "display_data",
          "data": {
            "text/plain": [
              "<IPython.core.display.HTML object>"
            ],
            "text/html": [
              "\n",
              "     <input type=\"file\" id=\"files-e349ed52-706b-4a04-8c98-2a010da8697d\" name=\"files[]\" multiple disabled\n",
              "        style=\"border:none\" />\n",
              "     <output id=\"result-e349ed52-706b-4a04-8c98-2a010da8697d\">\n",
              "      Upload widget is only available when the cell has been executed in the\n",
              "      current browser session. Please rerun this cell to enable.\n",
              "      </output>\n",
              "      <script>// Copyright 2017 Google LLC\n",
              "//\n",
              "// Licensed under the Apache License, Version 2.0 (the \"License\");\n",
              "// you may not use this file except in compliance with the License.\n",
              "// You may obtain a copy of the License at\n",
              "//\n",
              "//      http://www.apache.org/licenses/LICENSE-2.0\n",
              "//\n",
              "// Unless required by applicable law or agreed to in writing, software\n",
              "// distributed under the License is distributed on an \"AS IS\" BASIS,\n",
              "// WITHOUT WARRANTIES OR CONDITIONS OF ANY KIND, either express or implied.\n",
              "// See the License for the specific language governing permissions and\n",
              "// limitations under the License.\n",
              "\n",
              "/**\n",
              " * @fileoverview Helpers for google.colab Python module.\n",
              " */\n",
              "(function(scope) {\n",
              "function span(text, styleAttributes = {}) {\n",
              "  const element = document.createElement('span');\n",
              "  element.textContent = text;\n",
              "  for (const key of Object.keys(styleAttributes)) {\n",
              "    element.style[key] = styleAttributes[key];\n",
              "  }\n",
              "  return element;\n",
              "}\n",
              "\n",
              "// Max number of bytes which will be uploaded at a time.\n",
              "const MAX_PAYLOAD_SIZE = 100 * 1024;\n",
              "\n",
              "function _uploadFiles(inputId, outputId) {\n",
              "  const steps = uploadFilesStep(inputId, outputId);\n",
              "  const outputElement = document.getElementById(outputId);\n",
              "  // Cache steps on the outputElement to make it available for the next call\n",
              "  // to uploadFilesContinue from Python.\n",
              "  outputElement.steps = steps;\n",
              "\n",
              "  return _uploadFilesContinue(outputId);\n",
              "}\n",
              "\n",
              "// This is roughly an async generator (not supported in the browser yet),\n",
              "// where there are multiple asynchronous steps and the Python side is going\n",
              "// to poll for completion of each step.\n",
              "// This uses a Promise to block the python side on completion of each step,\n",
              "// then passes the result of the previous step as the input to the next step.\n",
              "function _uploadFilesContinue(outputId) {\n",
              "  const outputElement = document.getElementById(outputId);\n",
              "  const steps = outputElement.steps;\n",
              "\n",
              "  const next = steps.next(outputElement.lastPromiseValue);\n",
              "  return Promise.resolve(next.value.promise).then((value) => {\n",
              "    // Cache the last promise value to make it available to the next\n",
              "    // step of the generator.\n",
              "    outputElement.lastPromiseValue = value;\n",
              "    return next.value.response;\n",
              "  });\n",
              "}\n",
              "\n",
              "/**\n",
              " * Generator function which is called between each async step of the upload\n",
              " * process.\n",
              " * @param {string} inputId Element ID of the input file picker element.\n",
              " * @param {string} outputId Element ID of the output display.\n",
              " * @return {!Iterable<!Object>} Iterable of next steps.\n",
              " */\n",
              "function* uploadFilesStep(inputId, outputId) {\n",
              "  const inputElement = document.getElementById(inputId);\n",
              "  inputElement.disabled = false;\n",
              "\n",
              "  const outputElement = document.getElementById(outputId);\n",
              "  outputElement.innerHTML = '';\n",
              "\n",
              "  const pickedPromise = new Promise((resolve) => {\n",
              "    inputElement.addEventListener('change', (e) => {\n",
              "      resolve(e.target.files);\n",
              "    });\n",
              "  });\n",
              "\n",
              "  const cancel = document.createElement('button');\n",
              "  inputElement.parentElement.appendChild(cancel);\n",
              "  cancel.textContent = 'Cancel upload';\n",
              "  const cancelPromise = new Promise((resolve) => {\n",
              "    cancel.onclick = () => {\n",
              "      resolve(null);\n",
              "    };\n",
              "  });\n",
              "\n",
              "  // Wait for the user to pick the files.\n",
              "  const files = yield {\n",
              "    promise: Promise.race([pickedPromise, cancelPromise]),\n",
              "    response: {\n",
              "      action: 'starting',\n",
              "    }\n",
              "  };\n",
              "\n",
              "  cancel.remove();\n",
              "\n",
              "  // Disable the input element since further picks are not allowed.\n",
              "  inputElement.disabled = true;\n",
              "\n",
              "  if (!files) {\n",
              "    return {\n",
              "      response: {\n",
              "        action: 'complete',\n",
              "      }\n",
              "    };\n",
              "  }\n",
              "\n",
              "  for (const file of files) {\n",
              "    const li = document.createElement('li');\n",
              "    li.append(span(file.name, {fontWeight: 'bold'}));\n",
              "    li.append(span(\n",
              "        `(${file.type || 'n/a'}) - ${file.size} bytes, ` +\n",
              "        `last modified: ${\n",
              "            file.lastModifiedDate ? file.lastModifiedDate.toLocaleDateString() :\n",
              "                                    'n/a'} - `));\n",
              "    const percent = span('0% done');\n",
              "    li.appendChild(percent);\n",
              "\n",
              "    outputElement.appendChild(li);\n",
              "\n",
              "    const fileDataPromise = new Promise((resolve) => {\n",
              "      const reader = new FileReader();\n",
              "      reader.onload = (e) => {\n",
              "        resolve(e.target.result);\n",
              "      };\n",
              "      reader.readAsArrayBuffer(file);\n",
              "    });\n",
              "    // Wait for the data to be ready.\n",
              "    let fileData = yield {\n",
              "      promise: fileDataPromise,\n",
              "      response: {\n",
              "        action: 'continue',\n",
              "      }\n",
              "    };\n",
              "\n",
              "    // Use a chunked sending to avoid message size limits. See b/62115660.\n",
              "    let position = 0;\n",
              "    do {\n",
              "      const length = Math.min(fileData.byteLength - position, MAX_PAYLOAD_SIZE);\n",
              "      const chunk = new Uint8Array(fileData, position, length);\n",
              "      position += length;\n",
              "\n",
              "      const base64 = btoa(String.fromCharCode.apply(null, chunk));\n",
              "      yield {\n",
              "        response: {\n",
              "          action: 'append',\n",
              "          file: file.name,\n",
              "          data: base64,\n",
              "        },\n",
              "      };\n",
              "\n",
              "      let percentDone = fileData.byteLength === 0 ?\n",
              "          100 :\n",
              "          Math.round((position / fileData.byteLength) * 100);\n",
              "      percent.textContent = `${percentDone}% done`;\n",
              "\n",
              "    } while (position < fileData.byteLength);\n",
              "  }\n",
              "\n",
              "  // All done.\n",
              "  yield {\n",
              "    response: {\n",
              "      action: 'complete',\n",
              "    }\n",
              "  };\n",
              "}\n",
              "\n",
              "scope.google = scope.google || {};\n",
              "scope.google.colab = scope.google.colab || {};\n",
              "scope.google.colab._files = {\n",
              "  _uploadFiles,\n",
              "  _uploadFilesContinue,\n",
              "};\n",
              "})(self);\n",
              "</script> "
            ]
          },
          "metadata": {}
        },
        {
          "output_type": "stream",
          "name": "stdout",
          "text": [
            "Saving test_diabetes.csv to test_diabetes.csv\n"
          ]
        }
      ]
    },
    {
      "cell_type": "code",
      "source": [
        "df = pd.read_csv('test_diabetes.csv',\n",
        "                 sep=';',\n",
        "                 engine = 'python')\n",
        "print(df)"
      ],
      "metadata": {
        "colab": {
          "base_uri": "https://localhost:8080/"
        },
        "id": "VC0hONXVr-8D",
        "outputId": "3f7a42b2-65ab-4839-b8d6-b8eaac8b5373"
      },
      "execution_count": null,
      "outputs": [
        {
          "output_type": "stream",
          "name": "stdout",
          "text": [
            "     Pregnancies  Glucose  BloodPressure  SkinThickness Insulin   BMI  \\\n",
            "0            NaN    148.0           72.0           35.0       0  33.6   \n",
            "1            1.0     85.0           66.0           29.0       0  26.6   \n",
            "2            8.0    183.0           64.0            0.0       0  23.3   \n",
            "3            1.0     89.0           66.0           23.0      94  28.1   \n",
            "4            0.0      NaN           40.0           35.0     168  43.1   \n",
            "..           ...      ...            ...            ...     ...   ...   \n",
            "763         10.0    101.0           76.0            NaN     180  32.9   \n",
            "764          2.0    122.0           70.0           27.0    Zero  36.8   \n",
            "765          5.0    121.0           72.0           23.0     112  26.2   \n",
            "766          1.0    126.0           60.0            0.0    Zero  30.1   \n",
            "767          1.0      NaN           70.0           31.0    Zero  30.4   \n",
            "\n",
            "     DiabetesPedigreeFunction   Age Outcome  \n",
            "0                       0.627  50.0       1  \n",
            "1                       0.351  31.0       0  \n",
            "2                       0.672  32.0       1  \n",
            "3                       0.167  21.0       0  \n",
            "4                       2.288   NaN       1  \n",
            "..                        ...   ...     ...  \n",
            "763                     0.171  63.0       0  \n",
            "764                     0.340  27.0       0  \n",
            "765                     0.245  30.0       N  \n",
            "766                     0.349  47.0       1  \n",
            "767                       NaN  23.0       0  \n",
            "\n",
            "[768 rows x 9 columns]\n"
          ]
        }
      ]
    },
    {
      "cell_type": "code",
      "source": [
        "df.info()"
      ],
      "metadata": {
        "colab": {
          "base_uri": "https://localhost:8080/"
        },
        "id": "Xr1qf3TcsUmV",
        "outputId": "65204b57-4e33-4368-be4b-40cad056755e"
      },
      "execution_count": null,
      "outputs": [
        {
          "output_type": "stream",
          "name": "stdout",
          "text": [
            "<class 'pandas.core.frame.DataFrame'>\n",
            "RangeIndex: 768 entries, 0 to 767\n",
            "Data columns (total 9 columns):\n",
            " #   Column                    Non-Null Count  Dtype  \n",
            "---  ------                    --------------  -----  \n",
            " 0   Pregnancies               731 non-null    float64\n",
            " 1   Glucose                   730 non-null    float64\n",
            " 2   BloodPressure             734 non-null    float64\n",
            " 3   SkinThickness             734 non-null    float64\n",
            " 4   Insulin                   717 non-null    object \n",
            " 5   BMI                       733 non-null    float64\n",
            " 6   DiabetesPedigreeFunction  728 non-null    float64\n",
            " 7   Age                       717 non-null    float64\n",
            " 8   Outcome                   768 non-null    object \n",
            "dtypes: float64(7), object(2)\n",
            "memory usage: 54.1+ KB\n"
          ]
        }
      ]
    },
    {
      "cell_type": "code",
      "source": [
        "df.Insulin.unique()\n"
      ],
      "metadata": {
        "colab": {
          "base_uri": "https://localhost:8080/"
        },
        "id": "UrxVvSnOsGTY",
        "outputId": "841a355e-bc50-46cf-e9a3-45cfd409bf5b"
      },
      "execution_count": null,
      "outputs": [
        {
          "output_type": "execute_result",
          "data": {
            "text/plain": [
              "array(['0', '94', '168', 'Zero', '88', '543', '846', '175', '230', nan,\n",
              "       '96', '235', '146', '115', '110', '245', '54', '192', '207', '70',\n",
              "       '240', '82', '36', '23', '300', '342', '142', '128', '38', '90',\n",
              "       '140', '270', '71', '125', '176', '48', '64', '228', '76', '220',\n",
              "       '40', '152', '18', '135', '495', '37', '51', '100', '99', '145',\n",
              "       '225', '49', '50', '92', '325', '63', '119', '204', '155', '485',\n",
              "       '53', '114', '105', '285', '156', '78', '55', '130', '58', '160',\n",
              "       '210', '318', '44', '190', '280', '271', '129', '120', '478', '56',\n",
              "       '32', '370', '45', '194', '680', '402', '258', '375', '150', '67',\n",
              "       '57', '116', '278', '122', '545', '75', '74', '182', '360', '215',\n",
              "       '184', '42', '132', '148', '180', '205', '85', '231', '29', '68',\n",
              "       '52', '255', '171', '73', '108', '83', '43', '167', '249', '293',\n",
              "       '66', '465', '89', '158', '84', '72', '59', '81', '196', '415',\n",
              "       '87', '275', '165', '579', '310', '61', '474', '170', '277', '60',\n",
              "       '14', '95', '237', '191', '328', '250', '480', '265', '193', '79',\n",
              "       '86', '326', '188', '106', '65', '166', '274', '77', '126', '330',\n",
              "       '600', '185', '25', '41', '272', '321', '144', '183', '91', '46',\n",
              "       '440', '159', '200', '335', '387', '22', '291', '392', '178',\n",
              "       '127', '510', '16', '112'], dtype=object)"
            ]
          },
          "metadata": {},
          "execution_count": 6
        }
      ]
    },
    {
      "cell_type": "markdown",
      "source": [
        "## Insulin cant take zero value so replacing them with nan"
      ],
      "metadata": {
        "id": "Q-nvKU0qCmsZ"
      }
    },
    {
      "cell_type": "code",
      "source": [
        "df.loc[df.Insulin == 'Zero', 'Insulin'] = np.nan\n",
        "df.loc[df.Insulin == '0', 'Insulin'] = np.nan\n"
      ],
      "metadata": {
        "id": "bnVQZ4n3sTsI"
      },
      "execution_count": null,
      "outputs": []
    },
    {
      "cell_type": "code",
      "source": [
        "df.Insulin.unique()\n"
      ],
      "metadata": {
        "colab": {
          "base_uri": "https://localhost:8080/"
        },
        "id": "L_hUwmUYs4lh",
        "outputId": "066ce83a-c1bb-43a0-b281-350e8ee57e95"
      },
      "execution_count": null,
      "outputs": [
        {
          "output_type": "execute_result",
          "data": {
            "text/plain": [
              "array(['0', '94', '168', 'Zero', '88', '543', '846', '175', '230', nan,\n",
              "       '96', '235', '146', '115', '110', '245', '54', '192', '207', '70',\n",
              "       '240', '82', '36', '23', '300', '342', '142', '128', '38', '90',\n",
              "       '140', '270', '71', '125', '176', '48', '64', '228', '76', '220',\n",
              "       '40', '152', '18', '135', '495', '37', '51', '100', '99', '145',\n",
              "       '225', '49', '50', '92', '325', '63', '119', '204', '155', '485',\n",
              "       '53', '114', '105', '285', '156', '78', '55', '130', '58', '160',\n",
              "       '210', '318', '44', '190', '280', '271', '129', '120', '478', '56',\n",
              "       '32', '370', '45', '194', '680', '402', '258', '375', '150', '67',\n",
              "       '57', '116', '278', '122', '545', '75', '74', '182', '360', '215',\n",
              "       '184', '42', '132', '148', '180', '205', '85', '231', '29', '68',\n",
              "       '52', '255', '171', '73', '108', '83', '43', '167', '249', '293',\n",
              "       '66', '465', '89', '158', '84', '72', '59', '81', '196', '415',\n",
              "       '87', '275', '165', '579', '310', '61', '474', '170', '277', '60',\n",
              "       '14', '95', '237', '191', '328', '250', '480', '265', '193', '79',\n",
              "       '86', '326', '188', '106', '65', '166', '274', '77', '126', '330',\n",
              "       '600', '185', '25', '41', '272', '321', '144', '183', '91', '46',\n",
              "       '440', '159', '200', '335', '387', '22', '291', '392', '178',\n",
              "       '127', '510', '16', '112'], dtype=object)"
            ]
          },
          "metadata": {},
          "execution_count": 6
        }
      ]
    },
    {
      "cell_type": "code",
      "source": [
        "df.info()"
      ],
      "metadata": {
        "colab": {
          "base_uri": "https://localhost:8080/"
        },
        "id": "BDI-iNLbs6v7",
        "outputId": "db17cb3c-7f14-41db-b8d8-11ab6315ebce"
      },
      "execution_count": null,
      "outputs": [
        {
          "output_type": "stream",
          "name": "stdout",
          "text": [
            "<class 'pandas.core.frame.DataFrame'>\n",
            "RangeIndex: 768 entries, 0 to 767\n",
            "Data columns (total 9 columns):\n",
            " #   Column                    Non-Null Count  Dtype  \n",
            "---  ------                    --------------  -----  \n",
            " 0   Pregnancies               731 non-null    float64\n",
            " 1   Glucose                   730 non-null    float64\n",
            " 2   BloodPressure             734 non-null    float64\n",
            " 3   SkinThickness             734 non-null    float64\n",
            " 4   Insulin                   717 non-null    object \n",
            " 5   BMI                       733 non-null    float64\n",
            " 6   DiabetesPedigreeFunction  728 non-null    float64\n",
            " 7   Age                       717 non-null    float64\n",
            " 8   Outcome                   768 non-null    object \n",
            "dtypes: float64(7), object(2)\n",
            "memory usage: 54.1+ KB\n"
          ]
        }
      ]
    },
    {
      "cell_type": "code",
      "source": [
        "df.Insulin = pd.to_numeric(df.Insulin) # Converting dtype from object to numeric\n"
      ],
      "metadata": {
        "id": "x5XX41qVtAr5",
        "colab": {
          "base_uri": "https://localhost:8080/",
          "height": 294
        },
        "outputId": "08ebebe2-86da-4056-ca5b-07877ae365cd"
      },
      "execution_count": null,
      "outputs": [
        {
          "output_type": "error",
          "ename": "ValueError",
          "evalue": "ignored",
          "traceback": [
            "\u001b[0;31m---------------------------------------------------------------------------\u001b[0m",
            "\u001b[0;31mValueError\u001b[0m                                Traceback (most recent call last)",
            "\u001b[0;32m/usr/local/lib/python3.8/dist-packages/pandas/_libs/lib.pyx\u001b[0m in \u001b[0;36mpandas._libs.lib.maybe_convert_numeric\u001b[0;34m()\u001b[0m\n",
            "\u001b[0;31mValueError\u001b[0m: Unable to parse string \"Zero\"",
            "\nDuring handling of the above exception, another exception occurred:\n",
            "\u001b[0;31mValueError\u001b[0m                                Traceback (most recent call last)",
            "\u001b[0;32m<ipython-input-7-b81ef9223682>\u001b[0m in \u001b[0;36m<module>\u001b[0;34m\u001b[0m\n\u001b[0;32m----> 1\u001b[0;31m \u001b[0mdf\u001b[0m\u001b[0;34m.\u001b[0m\u001b[0mInsulin\u001b[0m \u001b[0;34m=\u001b[0m \u001b[0mpd\u001b[0m\u001b[0;34m.\u001b[0m\u001b[0mto_numeric\u001b[0m\u001b[0;34m(\u001b[0m\u001b[0mdf\u001b[0m\u001b[0;34m.\u001b[0m\u001b[0mInsulin\u001b[0m\u001b[0;34m)\u001b[0m \u001b[0;31m# Converting dtype from object to numeric\u001b[0m\u001b[0;34m\u001b[0m\u001b[0;34m\u001b[0m\u001b[0m\n\u001b[0m",
            "\u001b[0;32m/usr/local/lib/python3.8/dist-packages/pandas/core/tools/numeric.py\u001b[0m in \u001b[0;36mto_numeric\u001b[0;34m(arg, errors, downcast)\u001b[0m\n\u001b[1;32m    181\u001b[0m         \u001b[0mcoerce_numeric\u001b[0m \u001b[0;34m=\u001b[0m \u001b[0merrors\u001b[0m \u001b[0;32mnot\u001b[0m \u001b[0;32min\u001b[0m \u001b[0;34m(\u001b[0m\u001b[0;34m\"ignore\"\u001b[0m\u001b[0;34m,\u001b[0m \u001b[0;34m\"raise\"\u001b[0m\u001b[0;34m)\u001b[0m\u001b[0;34m\u001b[0m\u001b[0;34m\u001b[0m\u001b[0m\n\u001b[1;32m    182\u001b[0m         \u001b[0;32mtry\u001b[0m\u001b[0;34m:\u001b[0m\u001b[0;34m\u001b[0m\u001b[0;34m\u001b[0m\u001b[0m\n\u001b[0;32m--> 183\u001b[0;31m             values, _ = lib.maybe_convert_numeric(\n\u001b[0m\u001b[1;32m    184\u001b[0m                 \u001b[0mvalues\u001b[0m\u001b[0;34m,\u001b[0m \u001b[0mset\u001b[0m\u001b[0;34m(\u001b[0m\u001b[0;34m)\u001b[0m\u001b[0;34m,\u001b[0m \u001b[0mcoerce_numeric\u001b[0m\u001b[0;34m=\u001b[0m\u001b[0mcoerce_numeric\u001b[0m\u001b[0;34m\u001b[0m\u001b[0;34m\u001b[0m\u001b[0m\n\u001b[1;32m    185\u001b[0m             )\n",
            "\u001b[0;32m/usr/local/lib/python3.8/dist-packages/pandas/_libs/lib.pyx\u001b[0m in \u001b[0;36mpandas._libs.lib.maybe_convert_numeric\u001b[0;34m()\u001b[0m\n",
            "\u001b[0;31mValueError\u001b[0m: Unable to parse string \"Zero\" at position 5"
          ]
        }
      ]
    },
    {
      "cell_type": "code",
      "source": [
        "df.info()"
      ],
      "metadata": {
        "colab": {
          "base_uri": "https://localhost:8080/"
        },
        "id": "cfA8XZjMtGN-",
        "outputId": "b7fd2550-6611-49ba-e11a-0cf8fe62d0fb"
      },
      "execution_count": null,
      "outputs": [
        {
          "output_type": "stream",
          "name": "stdout",
          "text": [
            "<class 'pandas.core.frame.DataFrame'>\n",
            "RangeIndex: 768 entries, 0 to 767\n",
            "Data columns (total 9 columns):\n",
            " #   Column                    Non-Null Count  Dtype  \n",
            "---  ------                    --------------  -----  \n",
            " 0   Pregnancies               731 non-null    float64\n",
            " 1   Glucose                   730 non-null    float64\n",
            " 2   BloodPressure             734 non-null    float64\n",
            " 3   SkinThickness             734 non-null    float64\n",
            " 4   Insulin                   368 non-null    float64\n",
            " 5   BMI                       733 non-null    float64\n",
            " 6   DiabetesPedigreeFunction  728 non-null    float64\n",
            " 7   Age                       717 non-null    float64\n",
            " 8   Outcome                   768 non-null    object \n",
            "dtypes: float64(8), object(1)\n",
            "memory usage: 54.1+ KB\n"
          ]
        }
      ]
    },
    {
      "cell_type": "code",
      "source": [
        "df.describe()"
      ],
      "metadata": {
        "colab": {
          "base_uri": "https://localhost:8080/",
          "height": 300
        },
        "id": "2qeVeZivtG3W",
        "outputId": "83f0c8e7-320b-4021-858d-e062d57c7455"
      },
      "execution_count": null,
      "outputs": [
        {
          "output_type": "execute_result",
          "data": {
            "text/plain": [
              "       Pregnancies     Glucose  BloodPressure  SkinThickness     Insulin  \\\n",
              "count   731.000000  730.000000     734.000000     734.000000  368.000000   \n",
              "mean      3.824897  121.152055      69.008174      20.848774  155.858696   \n",
              "std       3.369400   31.774802      19.496036      15.876665  115.439884   \n",
              "min       0.000000    0.000000       0.000000       0.000000   14.000000   \n",
              "25%       1.000000   99.000000      64.000000       0.000000   77.000000   \n",
              "50%       3.000000  117.000000      72.000000      23.000000  127.500000   \n",
              "75%       6.000000  141.000000      80.000000      32.000000  191.250000   \n",
              "max      17.000000  198.000000     122.000000      99.000000  846.000000   \n",
              "\n",
              "              BMI  DiabetesPedigreeFunction         Age  \n",
              "count  733.000000                728.000000  717.000000  \n",
              "mean    31.979536                  0.472702   34.108787  \n",
              "std      7.918709                  0.331714   16.119730  \n",
              "min      0.000000                  0.078000   -1.000000  \n",
              "25%     27.400000                  0.245000   24.000000  \n",
              "50%     32.000000                  0.372500   29.000000  \n",
              "75%     36.500000                  0.624500   41.000000  \n",
              "max     67.100000                  2.420000  200.000000  "
            ],
            "text/html": [
              "\n",
              "  <div id=\"df-3e5b8824-7ad5-4a3a-88c5-143a697ad9f6\">\n",
              "    <div class=\"colab-df-container\">\n",
              "      <div>\n",
              "<style scoped>\n",
              "    .dataframe tbody tr th:only-of-type {\n",
              "        vertical-align: middle;\n",
              "    }\n",
              "\n",
              "    .dataframe tbody tr th {\n",
              "        vertical-align: top;\n",
              "    }\n",
              "\n",
              "    .dataframe thead th {\n",
              "        text-align: right;\n",
              "    }\n",
              "</style>\n",
              "<table border=\"1\" class=\"dataframe\">\n",
              "  <thead>\n",
              "    <tr style=\"text-align: right;\">\n",
              "      <th></th>\n",
              "      <th>Pregnancies</th>\n",
              "      <th>Glucose</th>\n",
              "      <th>BloodPressure</th>\n",
              "      <th>SkinThickness</th>\n",
              "      <th>Insulin</th>\n",
              "      <th>BMI</th>\n",
              "      <th>DiabetesPedigreeFunction</th>\n",
              "      <th>Age</th>\n",
              "    </tr>\n",
              "  </thead>\n",
              "  <tbody>\n",
              "    <tr>\n",
              "      <th>count</th>\n",
              "      <td>731.000000</td>\n",
              "      <td>730.000000</td>\n",
              "      <td>734.000000</td>\n",
              "      <td>734.000000</td>\n",
              "      <td>368.000000</td>\n",
              "      <td>733.000000</td>\n",
              "      <td>728.000000</td>\n",
              "      <td>717.000000</td>\n",
              "    </tr>\n",
              "    <tr>\n",
              "      <th>mean</th>\n",
              "      <td>3.824897</td>\n",
              "      <td>121.152055</td>\n",
              "      <td>69.008174</td>\n",
              "      <td>20.848774</td>\n",
              "      <td>155.858696</td>\n",
              "      <td>31.979536</td>\n",
              "      <td>0.472702</td>\n",
              "      <td>34.108787</td>\n",
              "    </tr>\n",
              "    <tr>\n",
              "      <th>std</th>\n",
              "      <td>3.369400</td>\n",
              "      <td>31.774802</td>\n",
              "      <td>19.496036</td>\n",
              "      <td>15.876665</td>\n",
              "      <td>115.439884</td>\n",
              "      <td>7.918709</td>\n",
              "      <td>0.331714</td>\n",
              "      <td>16.119730</td>\n",
              "    </tr>\n",
              "    <tr>\n",
              "      <th>min</th>\n",
              "      <td>0.000000</td>\n",
              "      <td>0.000000</td>\n",
              "      <td>0.000000</td>\n",
              "      <td>0.000000</td>\n",
              "      <td>14.000000</td>\n",
              "      <td>0.000000</td>\n",
              "      <td>0.078000</td>\n",
              "      <td>-1.000000</td>\n",
              "    </tr>\n",
              "    <tr>\n",
              "      <th>25%</th>\n",
              "      <td>1.000000</td>\n",
              "      <td>99.000000</td>\n",
              "      <td>64.000000</td>\n",
              "      <td>0.000000</td>\n",
              "      <td>77.000000</td>\n",
              "      <td>27.400000</td>\n",
              "      <td>0.245000</td>\n",
              "      <td>24.000000</td>\n",
              "    </tr>\n",
              "    <tr>\n",
              "      <th>50%</th>\n",
              "      <td>3.000000</td>\n",
              "      <td>117.000000</td>\n",
              "      <td>72.000000</td>\n",
              "      <td>23.000000</td>\n",
              "      <td>127.500000</td>\n",
              "      <td>32.000000</td>\n",
              "      <td>0.372500</td>\n",
              "      <td>29.000000</td>\n",
              "    </tr>\n",
              "    <tr>\n",
              "      <th>75%</th>\n",
              "      <td>6.000000</td>\n",
              "      <td>141.000000</td>\n",
              "      <td>80.000000</td>\n",
              "      <td>32.000000</td>\n",
              "      <td>191.250000</td>\n",
              "      <td>36.500000</td>\n",
              "      <td>0.624500</td>\n",
              "      <td>41.000000</td>\n",
              "    </tr>\n",
              "    <tr>\n",
              "      <th>max</th>\n",
              "      <td>17.000000</td>\n",
              "      <td>198.000000</td>\n",
              "      <td>122.000000</td>\n",
              "      <td>99.000000</td>\n",
              "      <td>846.000000</td>\n",
              "      <td>67.100000</td>\n",
              "      <td>2.420000</td>\n",
              "      <td>200.000000</td>\n",
              "    </tr>\n",
              "  </tbody>\n",
              "</table>\n",
              "</div>\n",
              "      <button class=\"colab-df-convert\" onclick=\"convertToInteractive('df-3e5b8824-7ad5-4a3a-88c5-143a697ad9f6')\"\n",
              "              title=\"Convert this dataframe to an interactive table.\"\n",
              "              style=\"display:none;\">\n",
              "        \n",
              "  <svg xmlns=\"http://www.w3.org/2000/svg\" height=\"24px\"viewBox=\"0 0 24 24\"\n",
              "       width=\"24px\">\n",
              "    <path d=\"M0 0h24v24H0V0z\" fill=\"none\"/>\n",
              "    <path d=\"M18.56 5.44l.94 2.06.94-2.06 2.06-.94-2.06-.94-.94-2.06-.94 2.06-2.06.94zm-11 1L8.5 8.5l.94-2.06 2.06-.94-2.06-.94L8.5 2.5l-.94 2.06-2.06.94zm10 10l.94 2.06.94-2.06 2.06-.94-2.06-.94-.94-2.06-.94 2.06-2.06.94z\"/><path d=\"M17.41 7.96l-1.37-1.37c-.4-.4-.92-.59-1.43-.59-.52 0-1.04.2-1.43.59L10.3 9.45l-7.72 7.72c-.78.78-.78 2.05 0 2.83L4 21.41c.39.39.9.59 1.41.59.51 0 1.02-.2 1.41-.59l7.78-7.78 2.81-2.81c.8-.78.8-2.07 0-2.86zM5.41 20L4 18.59l7.72-7.72 1.47 1.35L5.41 20z\"/>\n",
              "  </svg>\n",
              "      </button>\n",
              "      \n",
              "  <style>\n",
              "    .colab-df-container {\n",
              "      display:flex;\n",
              "      flex-wrap:wrap;\n",
              "      gap: 12px;\n",
              "    }\n",
              "\n",
              "    .colab-df-convert {\n",
              "      background-color: #E8F0FE;\n",
              "      border: none;\n",
              "      border-radius: 50%;\n",
              "      cursor: pointer;\n",
              "      display: none;\n",
              "      fill: #1967D2;\n",
              "      height: 32px;\n",
              "      padding: 0 0 0 0;\n",
              "      width: 32px;\n",
              "    }\n",
              "\n",
              "    .colab-df-convert:hover {\n",
              "      background-color: #E2EBFA;\n",
              "      box-shadow: 0px 1px 2px rgba(60, 64, 67, 0.3), 0px 1px 3px 1px rgba(60, 64, 67, 0.15);\n",
              "      fill: #174EA6;\n",
              "    }\n",
              "\n",
              "    [theme=dark] .colab-df-convert {\n",
              "      background-color: #3B4455;\n",
              "      fill: #D2E3FC;\n",
              "    }\n",
              "\n",
              "    [theme=dark] .colab-df-convert:hover {\n",
              "      background-color: #434B5C;\n",
              "      box-shadow: 0px 1px 3px 1px rgba(0, 0, 0, 0.15);\n",
              "      filter: drop-shadow(0px 1px 2px rgba(0, 0, 0, 0.3));\n",
              "      fill: #FFFFFF;\n",
              "    }\n",
              "  </style>\n",
              "\n",
              "      <script>\n",
              "        const buttonEl =\n",
              "          document.querySelector('#df-3e5b8824-7ad5-4a3a-88c5-143a697ad9f6 button.colab-df-convert');\n",
              "        buttonEl.style.display =\n",
              "          google.colab.kernel.accessAllowed ? 'block' : 'none';\n",
              "\n",
              "        async function convertToInteractive(key) {\n",
              "          const element = document.querySelector('#df-3e5b8824-7ad5-4a3a-88c5-143a697ad9f6');\n",
              "          const dataTable =\n",
              "            await google.colab.kernel.invokeFunction('convertToInteractive',\n",
              "                                                     [key], {});\n",
              "          if (!dataTable) return;\n",
              "\n",
              "          const docLinkHtml = 'Like what you see? Visit the ' +\n",
              "            '<a target=\"_blank\" href=https://colab.research.google.com/notebooks/data_table.ipynb>data table notebook</a>'\n",
              "            + ' to learn more about interactive tables.';\n",
              "          element.innerHTML = '';\n",
              "          dataTable['output_type'] = 'display_data';\n",
              "          await google.colab.output.renderOutput(dataTable, element);\n",
              "          const docLink = document.createElement('div');\n",
              "          docLink.innerHTML = docLinkHtml;\n",
              "          element.appendChild(docLink);\n",
              "        }\n",
              "      </script>\n",
              "    </div>\n",
              "  </div>\n",
              "  "
            ]
          },
          "metadata": {},
          "execution_count": 12
        }
      ]
    },
    {
      "cell_type": "markdown",
      "source": [
        "## Apart from pregnancies & Outcome no cloumn can have zero so replacing all similar false values to nan"
      ],
      "metadata": {
        "id": "XhLTHlw3C22m"
      }
    },
    {
      "cell_type": "code",
      "source": [
        "df.loc[df.Glucose == 0, 'Glucose'] = np.nan\n",
        "df.loc[df.BloodPressure == 0, 'BloodPressure'] = np.nan\n",
        "df.loc[df.SkinThickness == 0, 'SkinThickness'] = np.nan\n",
        "df.loc[df.BMI == 0, 'BMI'] = np.nan\n",
        "df.loc[df.Age <= 0, 'Age'] = np.nan\n",
        "df.loc[df.Age >= 100, 'Age'] = np.nan\n"
      ],
      "metadata": {
        "id": "wdBHoLd1tah5"
      },
      "execution_count": null,
      "outputs": []
    },
    {
      "cell_type": "markdown",
      "source": [
        "## Outcome have values N - Not Diabetic & Y - Diabetic Changing them to 0 , 1 & changing the dtype to numeric as well"
      ],
      "metadata": {
        "id": "4vCUICBWDFR-"
      }
    },
    {
      "cell_type": "code",
      "source": [
        "df.loc[df.Outcome == 'N', 'Outcome'] = 0\n",
        "df.loc[df.Outcome == 'Y', 'Outcome'] = 1\n",
        "df.Outcome = pd.to_numeric(df.Outcome)\n"
      ],
      "metadata": {
        "id": "Vj_m4YAFvusZ"
      },
      "execution_count": null,
      "outputs": []
    },
    {
      "cell_type": "code",
      "source": [
        "df.Outcome.value_counts()\n"
      ],
      "metadata": {
        "colab": {
          "base_uri": "https://localhost:8080/"
        },
        "id": "LbgPq6D3wejS",
        "outputId": "5fe1b058-8329-449d-9fd8-88fe07ed7f23"
      },
      "execution_count": null,
      "outputs": [
        {
          "output_type": "execute_result",
          "data": {
            "text/plain": [
              "0    500\n",
              "1    268\n",
              "Name: Outcome, dtype: int64"
            ]
          },
          "metadata": {},
          "execution_count": 15
        }
      ]
    },
    {
      "cell_type": "code",
      "source": [
        "df.info()"
      ],
      "metadata": {
        "colab": {
          "base_uri": "https://localhost:8080/"
        },
        "id": "Nn-aMzyIvtIh",
        "outputId": "1d73bd87-a5b2-45f2-ec65-ea0e05e3d68c"
      },
      "execution_count": null,
      "outputs": [
        {
          "output_type": "stream",
          "name": "stdout",
          "text": [
            "<class 'pandas.core.frame.DataFrame'>\n",
            "RangeIndex: 768 entries, 0 to 767\n",
            "Data columns (total 9 columns):\n",
            " #   Column                    Non-Null Count  Dtype  \n",
            "---  ------                    --------------  -----  \n",
            " 0   Pregnancies               731 non-null    float64\n",
            " 1   Glucose                   726 non-null    float64\n",
            " 2   BloodPressure             699 non-null    float64\n",
            " 3   SkinThickness             525 non-null    float64\n",
            " 4   Insulin                   368 non-null    float64\n",
            " 5   BMI                       722 non-null    float64\n",
            " 6   DiabetesPedigreeFunction  728 non-null    float64\n",
            " 7   Age                       711 non-null    float64\n",
            " 8   Outcome                   768 non-null    int64  \n",
            "dtypes: float64(8), int64(1)\n",
            "memory usage: 54.1 KB\n"
          ]
        }
      ]
    },
    {
      "cell_type": "code",
      "source": [
        "df.describe()\n"
      ],
      "metadata": {
        "colab": {
          "base_uri": "https://localhost:8080/",
          "height": 300
        },
        "id": "qNXfyEp40h0b",
        "outputId": "95adb255-c869-4b31-8ab1-8816afbffc9a"
      },
      "execution_count": null,
      "outputs": [
        {
          "output_type": "execute_result",
          "data": {
            "text/plain": [
              "       Pregnancies     Glucose  BloodPressure  SkinThickness     Insulin  \\\n",
              "count   731.000000  726.000000     699.000000     525.000000  368.000000   \n",
              "mean      3.824897  121.819559      72.463519      29.148571  155.858696   \n",
              "std       3.369400   30.557834      12.182343      10.498492  115.439884   \n",
              "min       0.000000   44.000000      30.000000       7.000000   14.000000   \n",
              "25%       1.000000   99.250000      64.000000      22.000000   77.000000   \n",
              "50%       3.000000  117.000000      72.000000      29.000000  127.500000   \n",
              "75%       6.000000  141.000000      80.000000      36.000000  191.250000   \n",
              "max      17.000000  198.000000     122.000000      99.000000  846.000000   \n",
              "\n",
              "              BMI  DiabetesPedigreeFunction         Age     Outcome  \n",
              "count  722.000000                728.000000  711.000000  768.000000  \n",
              "mean    32.466759                  0.472702   33.400844    0.348958  \n",
              "std      6.915355                  0.331714   11.838631    0.476951  \n",
              "min     18.200000                  0.078000   21.000000    0.000000  \n",
              "25%     27.500000                  0.245000   24.000000    0.000000  \n",
              "50%     32.350000                  0.372500   29.000000    0.000000  \n",
              "75%     36.600000                  0.624500   41.000000    1.000000  \n",
              "max     67.100000                  2.420000   81.000000    1.000000  "
            ],
            "text/html": [
              "\n",
              "  <div id=\"df-cbe9dd79-c4f9-4c3d-b27a-74dca19c7588\">\n",
              "    <div class=\"colab-df-container\">\n",
              "      <div>\n",
              "<style scoped>\n",
              "    .dataframe tbody tr th:only-of-type {\n",
              "        vertical-align: middle;\n",
              "    }\n",
              "\n",
              "    .dataframe tbody tr th {\n",
              "        vertical-align: top;\n",
              "    }\n",
              "\n",
              "    .dataframe thead th {\n",
              "        text-align: right;\n",
              "    }\n",
              "</style>\n",
              "<table border=\"1\" class=\"dataframe\">\n",
              "  <thead>\n",
              "    <tr style=\"text-align: right;\">\n",
              "      <th></th>\n",
              "      <th>Pregnancies</th>\n",
              "      <th>Glucose</th>\n",
              "      <th>BloodPressure</th>\n",
              "      <th>SkinThickness</th>\n",
              "      <th>Insulin</th>\n",
              "      <th>BMI</th>\n",
              "      <th>DiabetesPedigreeFunction</th>\n",
              "      <th>Age</th>\n",
              "      <th>Outcome</th>\n",
              "    </tr>\n",
              "  </thead>\n",
              "  <tbody>\n",
              "    <tr>\n",
              "      <th>count</th>\n",
              "      <td>731.000000</td>\n",
              "      <td>726.000000</td>\n",
              "      <td>699.000000</td>\n",
              "      <td>525.000000</td>\n",
              "      <td>368.000000</td>\n",
              "      <td>722.000000</td>\n",
              "      <td>728.000000</td>\n",
              "      <td>711.000000</td>\n",
              "      <td>768.000000</td>\n",
              "    </tr>\n",
              "    <tr>\n",
              "      <th>mean</th>\n",
              "      <td>3.824897</td>\n",
              "      <td>121.819559</td>\n",
              "      <td>72.463519</td>\n",
              "      <td>29.148571</td>\n",
              "      <td>155.858696</td>\n",
              "      <td>32.466759</td>\n",
              "      <td>0.472702</td>\n",
              "      <td>33.400844</td>\n",
              "      <td>0.348958</td>\n",
              "    </tr>\n",
              "    <tr>\n",
              "      <th>std</th>\n",
              "      <td>3.369400</td>\n",
              "      <td>30.557834</td>\n",
              "      <td>12.182343</td>\n",
              "      <td>10.498492</td>\n",
              "      <td>115.439884</td>\n",
              "      <td>6.915355</td>\n",
              "      <td>0.331714</td>\n",
              "      <td>11.838631</td>\n",
              "      <td>0.476951</td>\n",
              "    </tr>\n",
              "    <tr>\n",
              "      <th>min</th>\n",
              "      <td>0.000000</td>\n",
              "      <td>44.000000</td>\n",
              "      <td>30.000000</td>\n",
              "      <td>7.000000</td>\n",
              "      <td>14.000000</td>\n",
              "      <td>18.200000</td>\n",
              "      <td>0.078000</td>\n",
              "      <td>21.000000</td>\n",
              "      <td>0.000000</td>\n",
              "    </tr>\n",
              "    <tr>\n",
              "      <th>25%</th>\n",
              "      <td>1.000000</td>\n",
              "      <td>99.250000</td>\n",
              "      <td>64.000000</td>\n",
              "      <td>22.000000</td>\n",
              "      <td>77.000000</td>\n",
              "      <td>27.500000</td>\n",
              "      <td>0.245000</td>\n",
              "      <td>24.000000</td>\n",
              "      <td>0.000000</td>\n",
              "    </tr>\n",
              "    <tr>\n",
              "      <th>50%</th>\n",
              "      <td>3.000000</td>\n",
              "      <td>117.000000</td>\n",
              "      <td>72.000000</td>\n",
              "      <td>29.000000</td>\n",
              "      <td>127.500000</td>\n",
              "      <td>32.350000</td>\n",
              "      <td>0.372500</td>\n",
              "      <td>29.000000</td>\n",
              "      <td>0.000000</td>\n",
              "    </tr>\n",
              "    <tr>\n",
              "      <th>75%</th>\n",
              "      <td>6.000000</td>\n",
              "      <td>141.000000</td>\n",
              "      <td>80.000000</td>\n",
              "      <td>36.000000</td>\n",
              "      <td>191.250000</td>\n",
              "      <td>36.600000</td>\n",
              "      <td>0.624500</td>\n",
              "      <td>41.000000</td>\n",
              "      <td>1.000000</td>\n",
              "    </tr>\n",
              "    <tr>\n",
              "      <th>max</th>\n",
              "      <td>17.000000</td>\n",
              "      <td>198.000000</td>\n",
              "      <td>122.000000</td>\n",
              "      <td>99.000000</td>\n",
              "      <td>846.000000</td>\n",
              "      <td>67.100000</td>\n",
              "      <td>2.420000</td>\n",
              "      <td>81.000000</td>\n",
              "      <td>1.000000</td>\n",
              "    </tr>\n",
              "  </tbody>\n",
              "</table>\n",
              "</div>\n",
              "      <button class=\"colab-df-convert\" onclick=\"convertToInteractive('df-cbe9dd79-c4f9-4c3d-b27a-74dca19c7588')\"\n",
              "              title=\"Convert this dataframe to an interactive table.\"\n",
              "              style=\"display:none;\">\n",
              "        \n",
              "  <svg xmlns=\"http://www.w3.org/2000/svg\" height=\"24px\"viewBox=\"0 0 24 24\"\n",
              "       width=\"24px\">\n",
              "    <path d=\"M0 0h24v24H0V0z\" fill=\"none\"/>\n",
              "    <path d=\"M18.56 5.44l.94 2.06.94-2.06 2.06-.94-2.06-.94-.94-2.06-.94 2.06-2.06.94zm-11 1L8.5 8.5l.94-2.06 2.06-.94-2.06-.94L8.5 2.5l-.94 2.06-2.06.94zm10 10l.94 2.06.94-2.06 2.06-.94-2.06-.94-.94-2.06-.94 2.06-2.06.94z\"/><path d=\"M17.41 7.96l-1.37-1.37c-.4-.4-.92-.59-1.43-.59-.52 0-1.04.2-1.43.59L10.3 9.45l-7.72 7.72c-.78.78-.78 2.05 0 2.83L4 21.41c.39.39.9.59 1.41.59.51 0 1.02-.2 1.41-.59l7.78-7.78 2.81-2.81c.8-.78.8-2.07 0-2.86zM5.41 20L4 18.59l7.72-7.72 1.47 1.35L5.41 20z\"/>\n",
              "  </svg>\n",
              "      </button>\n",
              "      \n",
              "  <style>\n",
              "    .colab-df-container {\n",
              "      display:flex;\n",
              "      flex-wrap:wrap;\n",
              "      gap: 12px;\n",
              "    }\n",
              "\n",
              "    .colab-df-convert {\n",
              "      background-color: #E8F0FE;\n",
              "      border: none;\n",
              "      border-radius: 50%;\n",
              "      cursor: pointer;\n",
              "      display: none;\n",
              "      fill: #1967D2;\n",
              "      height: 32px;\n",
              "      padding: 0 0 0 0;\n",
              "      width: 32px;\n",
              "    }\n",
              "\n",
              "    .colab-df-convert:hover {\n",
              "      background-color: #E2EBFA;\n",
              "      box-shadow: 0px 1px 2px rgba(60, 64, 67, 0.3), 0px 1px 3px 1px rgba(60, 64, 67, 0.15);\n",
              "      fill: #174EA6;\n",
              "    }\n",
              "\n",
              "    [theme=dark] .colab-df-convert {\n",
              "      background-color: #3B4455;\n",
              "      fill: #D2E3FC;\n",
              "    }\n",
              "\n",
              "    [theme=dark] .colab-df-convert:hover {\n",
              "      background-color: #434B5C;\n",
              "      box-shadow: 0px 1px 3px 1px rgba(0, 0, 0, 0.15);\n",
              "      filter: drop-shadow(0px 1px 2px rgba(0, 0, 0, 0.3));\n",
              "      fill: #FFFFFF;\n",
              "    }\n",
              "  </style>\n",
              "\n",
              "      <script>\n",
              "        const buttonEl =\n",
              "          document.querySelector('#df-cbe9dd79-c4f9-4c3d-b27a-74dca19c7588 button.colab-df-convert');\n",
              "        buttonEl.style.display =\n",
              "          google.colab.kernel.accessAllowed ? 'block' : 'none';\n",
              "\n",
              "        async function convertToInteractive(key) {\n",
              "          const element = document.querySelector('#df-cbe9dd79-c4f9-4c3d-b27a-74dca19c7588');\n",
              "          const dataTable =\n",
              "            await google.colab.kernel.invokeFunction('convertToInteractive',\n",
              "                                                     [key], {});\n",
              "          if (!dataTable) return;\n",
              "\n",
              "          const docLinkHtml = 'Like what you see? Visit the ' +\n",
              "            '<a target=\"_blank\" href=https://colab.research.google.com/notebooks/data_table.ipynb>data table notebook</a>'\n",
              "            + ' to learn more about interactive tables.';\n",
              "          element.innerHTML = '';\n",
              "          dataTable['output_type'] = 'display_data';\n",
              "          await google.colab.output.renderOutput(dataTable, element);\n",
              "          const docLink = document.createElement('div');\n",
              "          docLink.innerHTML = docLinkHtml;\n",
              "          element.appendChild(docLink);\n",
              "        }\n",
              "      </script>\n",
              "    </div>\n",
              "  </div>\n",
              "  "
            ]
          },
          "metadata": {},
          "execution_count": 17
        }
      ]
    },
    {
      "cell_type": "code",
      "source": [
        "corr = df.corr()"
      ],
      "metadata": {
        "id": "2lork60Mwgnx"
      },
      "execution_count": null,
      "outputs": []
    },
    {
      "cell_type": "code",
      "source": [
        "fig, ax = plt.subplots(figsize=(11, 9))\n",
        "\n",
        "sns.heatmap(corr, annot=True, fmt='.1f', \n",
        "              square=True, linewidths=.5, cbar_kws={\"shrink\": .5})"
      ],
      "metadata": {
        "colab": {
          "base_uri": "https://localhost:8080/",
          "height": 675
        },
        "id": "T6_M7JjXwpBS",
        "outputId": "e1f471c1-1a9f-4c79-a958-788565de4576"
      },
      "execution_count": null,
      "outputs": [
        {
          "output_type": "execute_result",
          "data": {
            "text/plain": [
              "<matplotlib.axes._subplots.AxesSubplot at 0x7f693464f0a0>"
            ]
          },
          "metadata": {},
          "execution_count": 11
        },
        {
          "output_type": "display_data",
          "data": {
            "text/plain": [
              "<Figure size 792x648 with 2 Axes>"
            ],
            "image/png": "[encoded data removed]"
          },
          "metadata": {
            "needs_background": "light"
          }
        }
      ]
    },
    {
      "cell_type": "markdown",
      "source": [
        "### From the correlation graph we can see that the outcome & glucose have good correlation between them also glucose & insulin have high correlation"
      ],
      "metadata": {
        "id": "H_eKoKEoGAcT"
      }
    },
    {
      "cell_type": "code",
      "source": [
        "####################################################################################################################################################"
      ],
      "metadata": {
        "id": "QZ0zgFCSjFHm"
      },
      "execution_count": null,
      "outputs": []
    },
    {
      "cell_type": "code",
      "source": [
        "####################################################################################################################################################\n"
      ],
      "metadata": {
        "id": "k-o6PUsfjE_B"
      },
      "execution_count": null,
      "outputs": []
    },
    {
      "cell_type": "code",
      "source": [
        "####################################################################################################################################################\n"
      ],
      "metadata": {
        "id": "T_Q4g8vBjE2Z"
      },
      "execution_count": null,
      "outputs": []
    },
    {
      "cell_type": "markdown",
      "source": [
        "### For filling the missing values & removing outliers splitting the dataframe on the basis of outcome column"
      ],
      "metadata": {
        "id": "6bSyfZEiGWgt"
      }
    },
    {
      "cell_type": "code",
      "source": [
        "df0 = df[df.Outcome == 0]\n",
        "df0"
      ],
      "metadata": {
        "colab": {
          "base_uri": "https://localhost:8080/",
          "height": 423
        },
        "id": "EgEciUDm6Dew",
        "outputId": "66e37fbf-0473-4956-8c42-b71ad2ca4e9e"
      },
      "execution_count": null,
      "outputs": [
        {
          "output_type": "execute_result",
          "data": {
            "text/plain": [
              "     Pregnancies  Glucose  BloodPressure  SkinThickness  Insulin   BMI  \\\n",
              "1            1.0     85.0           66.0           29.0      NaN  26.6   \n",
              "3            1.0     89.0           66.0           23.0     94.0  28.1   \n",
              "5            5.0    116.0           74.0            NaN      NaN  25.6   \n",
              "7            NaN      NaN            NaN            NaN      NaN  35.3   \n",
              "10           4.0    110.0           92.0            NaN      NaN  37.6   \n",
              "..           ...      ...            ...            ...      ...   ...   \n",
              "762          NaN     89.0           62.0            NaN      NaN  22.5   \n",
              "763         10.0    101.0           76.0            NaN    180.0  32.9   \n",
              "764          2.0    122.0           70.0           27.0      NaN  36.8   \n",
              "765          5.0    121.0           72.0           23.0    112.0  26.2   \n",
              "767          1.0      NaN           70.0           31.0      NaN  30.4   \n",
              "\n",
              "     DiabetesPedigreeFunction   Age  Outcome  \n",
              "1                       0.351  31.0        0  \n",
              "3                       0.167  21.0        0  \n",
              "5                       0.201  30.0        0  \n",
              "7                       0.134  29.0        0  \n",
              "10                      0.191  30.0        0  \n",
              "..                        ...   ...      ...  \n",
              "762                     0.142  33.0        0  \n",
              "763                     0.171  63.0        0  \n",
              "764                     0.340  27.0        0  \n",
              "765                     0.245  30.0        0  \n",
              "767                       NaN  23.0        0  \n",
              "\n",
              "[500 rows x 9 columns]"
            ],
            "text/html": [
              "\n",
              "  <div id=\"df-78b165a9-85cc-417f-b774-bea702503d78\">\n",
              "    <div class=\"colab-df-container\">\n",
              "      <div>\n",
              "<style scoped>\n",
              "    .dataframe tbody tr th:only-of-type {\n",
              "        vertical-align: middle;\n",
              "    }\n",
              "\n",
              "    .dataframe tbody tr th {\n",
              "        vertical-align: top;\n",
              "    }\n",
              "\n",
              "    .dataframe thead th {\n",
              "        text-align: right;\n",
              "    }\n",
              "</style>\n",
              "<table border=\"1\" class=\"dataframe\">\n",
              "  <thead>\n",
              "    <tr style=\"text-align: right;\">\n",
              "      <th></th>\n",
              "      <th>Pregnancies</th>\n",
              "      <th>Glucose</th>\n",
              "      <th>BloodPressure</th>\n",
              "      <th>SkinThickness</th>\n",
              "      <th>Insulin</th>\n",
              "      <th>BMI</th>\n",
              "      <th>DiabetesPedigreeFunction</th>\n",
              "      <th>Age</th>\n",
              "      <th>Outcome</th>\n",
              "    </tr>\n",
              "  </thead>\n",
              "  <tbody>\n",
              "    <tr>\n",
              "      <th>1</th>\n",
              "      <td>1.0</td>\n",
              "      <td>85.0</td>\n",
              "      <td>66.0</td>\n",
              "      <td>29.0</td>\n",
              "      <td>NaN</td>\n",
              "      <td>26.6</td>\n",
              "      <td>0.351</td>\n",
              "      <td>31.0</td>\n",
              "      <td>0</td>\n",
              "    </tr>\n",
              "    <tr>\n",
              "      <th>3</th>\n",
              "      <td>1.0</td>\n",
              "      <td>89.0</td>\n",
              "      <td>66.0</td>\n",
              "      <td>23.0</td>\n",
              "      <td>94.0</td>\n",
              "      <td>28.1</td>\n",
              "      <td>0.167</td>\n",
              "      <td>21.0</td>\n",
              "      <td>0</td>\n",
              "    </tr>\n",
              "    <tr>\n",
              "      <th>5</th>\n",
              "      <td>5.0</td>\n",
              "      <td>116.0</td>\n",
              "      <td>74.0</td>\n",
              "      <td>NaN</td>\n",
              "      <td>NaN</td>\n",
              "      <td>25.6</td>\n",
              "      <td>0.201</td>\n",
              "      <td>30.0</td>\n",
              "      <td>0</td>\n",
              "    </tr>\n",
              "    <tr>\n",
              "      <th>7</th>\n",
              "      <td>NaN</td>\n",
              "      <td>NaN</td>\n",
              "      <td>NaN</td>\n",
              "      <td>NaN</td>\n",
              "      <td>NaN</td>\n",
              "      <td>35.3</td>\n",
              "      <td>0.134</td>\n",
              "      <td>29.0</td>\n",
              "      <td>0</td>\n",
              "    </tr>\n",
              "    <tr>\n",
              "      <th>10</th>\n",
              "      <td>4.0</td>\n",
              "      <td>110.0</td>\n",
              "      <td>92.0</td>\n",
              "      <td>NaN</td>\n",
              "      <td>NaN</td>\n",
              "      <td>37.6</td>\n",
              "      <td>0.191</td>\n",
              "      <td>30.0</td>\n",
              "      <td>0</td>\n",
              "    </tr>\n",
              "    <tr>\n",
              "      <th>...</th>\n",
              "      <td>...</td>\n",
              "      <td>...</td>\n",
              "      <td>...</td>\n",
              "      <td>...</td>\n",
              "      <td>...</td>\n",
              "      <td>...</td>\n",
              "      <td>...</td>\n",
              "      <td>...</td>\n",
              "      <td>...</td>\n",
              "    </tr>\n",
              "    <tr>\n",
              "      <th>762</th>\n",
              "      <td>NaN</td>\n",
              "      <td>89.0</td>\n",
              "      <td>62.0</td>\n",
              "      <td>NaN</td>\n",
              "      <td>NaN</td>\n",
              "      <td>22.5</td>\n",
              "      <td>0.142</td>\n",
              "      <td>33.0</td>\n",
              "      <td>0</td>\n",
              "    </tr>\n",
              "    <tr>\n",
              "      <th>763</th>\n",
              "      <td>10.0</td>\n",
              "      <td>101.0</td>\n",
              "      <td>76.0</td>\n",
              "      <td>NaN</td>\n",
              "      <td>180.0</td>\n",
              "      <td>32.9</td>\n",
              "      <td>0.171</td>\n",
              "      <td>63.0</td>\n",
              "      <td>0</td>\n",
              "    </tr>\n",
              "    <tr>\n",
              "      <th>764</th>\n",
              "      <td>2.0</td>\n",
              "      <td>122.0</td>\n",
              "      <td>70.0</td>\n",
              "      <td>27.0</td>\n",
              "      <td>NaN</td>\n",
              "      <td>36.8</td>\n",
              "      <td>0.340</td>\n",
              "      <td>27.0</td>\n",
              "      <td>0</td>\n",
              "    </tr>\n",
              "    <tr>\n",
              "      <th>765</th>\n",
              "      <td>5.0</td>\n",
              "      <td>121.0</td>\n",
              "      <td>72.0</td>\n",
              "      <td>23.0</td>\n",
              "      <td>112.0</td>\n",
              "      <td>26.2</td>\n",
              "      <td>0.245</td>\n",
              "      <td>30.0</td>\n",
              "      <td>0</td>\n",
              "    </tr>\n",
              "    <tr>\n",
              "      <th>767</th>\n",
              "      <td>1.0</td>\n",
              "      <td>NaN</td>\n",
              "      <td>70.0</td>\n",
              "      <td>31.0</td>\n",
              "      <td>NaN</td>\n",
              "      <td>30.4</td>\n",
              "      <td>NaN</td>\n",
              "      <td>23.0</td>\n",
              "      <td>0</td>\n",
              "    </tr>\n",
              "  </tbody>\n",
              "</table>\n",
              "<p>500 rows × 9 columns</p>\n",
              "</div>\n",
              "      <button class=\"colab-df-convert\" onclick=\"convertToInteractive('df-78b165a9-85cc-417f-b774-bea702503d78')\"\n",
              "              title=\"Convert this dataframe to an interactive table.\"\n",
              "              style=\"display:none;\">\n",
              "        \n",
              "  <svg xmlns=\"http://www.w3.org/2000/svg\" height=\"24px\"viewBox=\"0 0 24 24\"\n",
              "       width=\"24px\">\n",
              "    <path d=\"M0 0h24v24H0V0z\" fill=\"none\"/>\n",
              "    <path d=\"M18.56 5.44l.94 2.06.94-2.06 2.06-.94-2.06-.94-.94-2.06-.94 2.06-2.06.94zm-11 1L8.5 8.5l.94-2.06 2.06-.94-2.06-.94L8.5 2.5l-.94 2.06-2.06.94zm10 10l.94 2.06.94-2.06 2.06-.94-2.06-.94-.94-2.06-.94 2.06-2.06.94z\"/><path d=\"M17.41 7.96l-1.37-1.37c-.4-.4-.92-.59-1.43-.59-.52 0-1.04.2-1.43.59L10.3 9.45l-7.72 7.72c-.78.78-.78 2.05 0 2.83L4 21.41c.39.39.9.59 1.41.59.51 0 1.02-.2 1.41-.59l7.78-7.78 2.81-2.81c.8-.78.8-2.07 0-2.86zM5.41 20L4 18.59l7.72-7.72 1.47 1.35L5.41 20z\"/>\n",
              "  </svg>\n",
              "      </button>\n",
              "      \n",
              "  <style>\n",
              "    .colab-df-container {\n",
              "      display:flex;\n",
              "      flex-wrap:wrap;\n",
              "      gap: 12px;\n",
              "    }\n",
              "\n",
              "    .colab-df-convert {\n",
              "      background-color: #E8F0FE;\n",
              "      border: none;\n",
              "      border-radius: 50%;\n",
              "      cursor: pointer;\n",
              "      display: none;\n",
              "      fill: #1967D2;\n",
              "      height: 32px;\n",
              "      padding: 0 0 0 0;\n",
              "      width: 32px;\n",
              "    }\n",
              "\n",
              "    .colab-df-convert:hover {\n",
              "      background-color: #E2EBFA;\n",
              "      box-shadow: 0px 1px 2px rgba(60, 64, 67, 0.3), 0px 1px 3px 1px rgba(60, 64, 67, 0.15);\n",
              "      fill: #174EA6;\n",
              "    }\n",
              "\n",
              "    [theme=dark] .colab-df-convert {\n",
              "      background-color: #3B4455;\n",
              "      fill: #D2E3FC;\n",
              "    }\n",
              "\n",
              "    [theme=dark] .colab-df-convert:hover {\n",
              "      background-color: #434B5C;\n",
              "      box-shadow: 0px 1px 3px 1px rgba(0, 0, 0, 0.15);\n",
              "      filter: drop-shadow(0px 1px 2px rgba(0, 0, 0, 0.3));\n",
              "      fill: #FFFFFF;\n",
              "    }\n",
              "  </style>\n",
              "\n",
              "      <script>\n",
              "        const buttonEl =\n",
              "          document.querySelector('#df-78b165a9-85cc-417f-b774-bea702503d78 button.colab-df-convert');\n",
              "        buttonEl.style.display =\n",
              "          google.colab.kernel.accessAllowed ? 'block' : 'none';\n",
              "\n",
              "        async function convertToInteractive(key) {\n",
              "          const element = document.querySelector('#df-78b165a9-85cc-417f-b774-bea702503d78');\n",
              "          const dataTable =\n",
              "            await google.colab.kernel.invokeFunction('convertToInteractive',\n",
              "                                                     [key], {});\n",
              "          if (!dataTable) return;\n",
              "\n",
              "          const docLinkHtml = 'Like what you see? Visit the ' +\n",
              "            '<a target=\"_blank\" href=https://colab.research.google.com/notebooks/data_table.ipynb>data table notebook</a>'\n",
              "            + ' to learn more about interactive tables.';\n",
              "          element.innerHTML = '';\n",
              "          dataTable['output_type'] = 'display_data';\n",
              "          await google.colab.output.renderOutput(dataTable, element);\n",
              "          const docLink = document.createElement('div');\n",
              "          docLink.innerHTML = docLinkHtml;\n",
              "          element.appendChild(docLink);\n",
              "        }\n",
              "      </script>\n",
              "    </div>\n",
              "  </div>\n",
              "  "
            ]
          },
          "metadata": {},
          "execution_count": 24
        }
      ]
    },
    {
      "cell_type": "code",
      "source": [
        "df0.info()"
      ],
      "metadata": {
        "colab": {
          "base_uri": "https://localhost:8080/"
        },
        "id": "hQqe68hp-XLL",
        "outputId": "d8e17613-addb-4154-9807-d8e4113f8658"
      },
      "execution_count": null,
      "outputs": [
        {
          "output_type": "stream",
          "name": "stdout",
          "text": [
            "<class 'pandas.core.frame.DataFrame'>\n",
            "Int64Index: 500 entries, 1 to 767\n",
            "Data columns (total 9 columns):\n",
            " #   Column                    Non-Null Count  Dtype  \n",
            "---  ------                    --------------  -----  \n",
            " 0   Pregnancies               476 non-null    float64\n",
            " 1   Glucose                   470 non-null    float64\n",
            " 2   BloodPressure             457 non-null    float64\n",
            " 3   SkinThickness             347 non-null    float64\n",
            " 4   Insulin                   243 non-null    float64\n",
            " 5   BMI                       468 non-null    float64\n",
            " 6   DiabetesPedigreeFunction  472 non-null    float64\n",
            " 7   Age                       467 non-null    float64\n",
            " 8   Outcome                   500 non-null    int64  \n",
            "dtypes: float64(8), int64(1)\n",
            "memory usage: 39.1 KB\n"
          ]
        }
      ]
    },
    {
      "cell_type": "code",
      "source": [
        "df0.describe()"
      ],
      "metadata": {
        "colab": {
          "base_uri": "https://localhost:8080/",
          "height": 300
        },
        "id": "QD6RAr7aAa6V",
        "outputId": "535b2898-1e35-4b80-c6bc-3a6c51576997"
      },
      "execution_count": null,
      "outputs": [
        {
          "output_type": "execute_result",
          "data": {
            "text/plain": [
              "       Pregnancies     Glucose  BloodPressure  SkinThickness     Insulin  \\\n",
              "count   476.000000  470.000000     457.000000     347.000000  243.000000   \n",
              "mean      3.283613  110.806383      70.989059      27.123919  130.555556   \n",
              "std       3.010407   24.948535      11.889564      10.046952   97.429483   \n",
              "min       0.000000   44.000000      30.000000       7.000000   16.000000   \n",
              "25%       1.000000   93.000000      62.000000      19.000000   66.000000   \n",
              "50%       2.000000  107.000000      70.000000      27.000000  105.000000   \n",
              "75%       5.000000  125.000000      78.000000      33.000000  165.500000   \n",
              "max      13.000000  197.000000     122.000000      60.000000  680.000000   \n",
              "\n",
              "              BMI  DiabetesPedigreeFunction         Age  Outcome  \n",
              "count  468.000000                472.000000  467.000000    500.0  \n",
              "mean    30.888248                  0.429932   31.239829      0.0  \n",
              "std      6.581485                  0.299084   11.671205      0.0  \n",
              "min     18.200000                  0.078000   21.000000      0.0  \n",
              "25%     25.600000                  0.232500   23.000000      0.0  \n",
              "50%     30.100000                  0.336500   27.000000      0.0  \n",
              "75%     35.300000                  0.559250   37.000000      0.0  \n",
              "max     57.300000                  2.329000   81.000000      0.0  "
            ],
            "text/html": [
              "\n",
              "  <div id=\"df-4528fae7-ca92-4cee-8f0a-e48aab2dd395\">\n",
              "    <div class=\"colab-df-container\">\n",
              "      <div>\n",
              "<style scoped>\n",
              "    .dataframe tbody tr th:only-of-type {\n",
              "        vertical-align: middle;\n",
              "    }\n",
              "\n",
              "    .dataframe tbody tr th {\n",
              "        vertical-align: top;\n",
              "    }\n",
              "\n",
              "    .dataframe thead th {\n",
              "        text-align: right;\n",
              "    }\n",
              "</style>\n",
              "<table border=\"1\" class=\"dataframe\">\n",
              "  <thead>\n",
              "    <tr style=\"text-align: right;\">\n",
              "      <th></th>\n",
              "      <th>Pregnancies</th>\n",
              "      <th>Glucose</th>\n",
              "      <th>BloodPressure</th>\n",
              "      <th>SkinThickness</th>\n",
              "      <th>Insulin</th>\n",
              "      <th>BMI</th>\n",
              "      <th>DiabetesPedigreeFunction</th>\n",
              "      <th>Age</th>\n",
              "      <th>Outcome</th>\n",
              "    </tr>\n",
              "  </thead>\n",
              "  <tbody>\n",
              "    <tr>\n",
              "      <th>count</th>\n",
              "      <td>476.000000</td>\n",
              "      <td>470.000000</td>\n",
              "      <td>457.000000</td>\n",
              "      <td>347.000000</td>\n",
              "      <td>243.000000</td>\n",
              "      <td>468.000000</td>\n",
              "      <td>472.000000</td>\n",
              "      <td>467.000000</td>\n",
              "      <td>500.0</td>\n",
              "    </tr>\n",
              "    <tr>\n",
              "      <th>mean</th>\n",
              "      <td>3.283613</td>\n",
              "      <td>110.806383</td>\n",
              "      <td>70.989059</td>\n",
              "      <td>27.123919</td>\n",
              "      <td>130.555556</td>\n",
              "      <td>30.888248</td>\n",
              "      <td>0.429932</td>\n",
              "      <td>31.239829</td>\n",
              "      <td>0.0</td>\n",
              "    </tr>\n",
              "    <tr>\n",
              "      <th>std</th>\n",
              "      <td>3.010407</td>\n",
              "      <td>24.948535</td>\n",
              "      <td>11.889564</td>\n",
              "      <td>10.046952</td>\n",
              "      <td>97.429483</td>\n",
              "      <td>6.581485</td>\n",
              "      <td>0.299084</td>\n",
              "      <td>11.671205</td>\n",
              "      <td>0.0</td>\n",
              "    </tr>\n",
              "    <tr>\n",
              "      <th>min</th>\n",
              "      <td>0.000000</td>\n",
              "      <td>44.000000</td>\n",
              "      <td>30.000000</td>\n",
              "      <td>7.000000</td>\n",
              "      <td>16.000000</td>\n",
              "      <td>18.200000</td>\n",
              "      <td>0.078000</td>\n",
              "      <td>21.000000</td>\n",
              "      <td>0.0</td>\n",
              "    </tr>\n",
              "    <tr>\n",
              "      <th>25%</th>\n",
              "      <td>1.000000</td>\n",
              "      <td>93.000000</td>\n",
              "      <td>62.000000</td>\n",
              "      <td>19.000000</td>\n",
              "      <td>66.000000</td>\n",
              "      <td>25.600000</td>\n",
              "      <td>0.232500</td>\n",
              "      <td>23.000000</td>\n",
              "      <td>0.0</td>\n",
              "    </tr>\n",
              "    <tr>\n",
              "      <th>50%</th>\n",
              "      <td>2.000000</td>\n",
              "      <td>107.000000</td>\n",
              "      <td>70.000000</td>\n",
              "      <td>27.000000</td>\n",
              "      <td>105.000000</td>\n",
              "      <td>30.100000</td>\n",
              "      <td>0.336500</td>\n",
              "      <td>27.000000</td>\n",
              "      <td>0.0</td>\n",
              "    </tr>\n",
              "    <tr>\n",
              "      <th>75%</th>\n",
              "      <td>5.000000</td>\n",
              "      <td>125.000000</td>\n",
              "      <td>78.000000</td>\n",
              "      <td>33.000000</td>\n",
              "      <td>165.500000</td>\n",
              "      <td>35.300000</td>\n",
              "      <td>0.559250</td>\n",
              "      <td>37.000000</td>\n",
              "      <td>0.0</td>\n",
              "    </tr>\n",
              "    <tr>\n",
              "      <th>max</th>\n",
              "      <td>13.000000</td>\n",
              "      <td>197.000000</td>\n",
              "      <td>122.000000</td>\n",
              "      <td>60.000000</td>\n",
              "      <td>680.000000</td>\n",
              "      <td>57.300000</td>\n",
              "      <td>2.329000</td>\n",
              "      <td>81.000000</td>\n",
              "      <td>0.0</td>\n",
              "    </tr>\n",
              "  </tbody>\n",
              "</table>\n",
              "</div>\n",
              "      <button class=\"colab-df-convert\" onclick=\"convertToInteractive('df-4528fae7-ca92-4cee-8f0a-e48aab2dd395')\"\n",
              "              title=\"Convert this dataframe to an interactive table.\"\n",
              "              style=\"display:none;\">\n",
              "        \n",
              "  <svg xmlns=\"http://www.w3.org/2000/svg\" height=\"24px\"viewBox=\"0 0 24 24\"\n",
              "       width=\"24px\">\n",
              "    <path d=\"M0 0h24v24H0V0z\" fill=\"none\"/>\n",
              "    <path d=\"M18.56 5.44l.94 2.06.94-2.06 2.06-.94-2.06-.94-.94-2.06-.94 2.06-2.06.94zm-11 1L8.5 8.5l.94-2.06 2.06-.94-2.06-.94L8.5 2.5l-.94 2.06-2.06.94zm10 10l.94 2.06.94-2.06 2.06-.94-2.06-.94-.94-2.06-.94 2.06-2.06.94z\"/><path d=\"M17.41 7.96l-1.37-1.37c-.4-.4-.92-.59-1.43-.59-.52 0-1.04.2-1.43.59L10.3 9.45l-7.72 7.72c-.78.78-.78 2.05 0 2.83L4 21.41c.39.39.9.59 1.41.59.51 0 1.02-.2 1.41-.59l7.78-7.78 2.81-2.81c.8-.78.8-2.07 0-2.86zM5.41 20L4 18.59l7.72-7.72 1.47 1.35L5.41 20z\"/>\n",
              "  </svg>\n",
              "      </button>\n",
              "      \n",
              "  <style>\n",
              "    .colab-df-container {\n",
              "      display:flex;\n",
              "      flex-wrap:wrap;\n",
              "      gap: 12px;\n",
              "    }\n",
              "\n",
              "    .colab-df-convert {\n",
              "      background-color: #E8F0FE;\n",
              "      border: none;\n",
              "      border-radius: 50%;\n",
              "      cursor: pointer;\n",
              "      display: none;\n",
              "      fill: #1967D2;\n",
              "      height: 32px;\n",
              "      padding: 0 0 0 0;\n",
              "      width: 32px;\n",
              "    }\n",
              "\n",
              "    .colab-df-convert:hover {\n",
              "      background-color: #E2EBFA;\n",
              "      box-shadow: 0px 1px 2px rgba(60, 64, 67, 0.3), 0px 1px 3px 1px rgba(60, 64, 67, 0.15);\n",
              "      fill: #174EA6;\n",
              "    }\n",
              "\n",
              "    [theme=dark] .colab-df-convert {\n",
              "      background-color: #3B4455;\n",
              "      fill: #D2E3FC;\n",
              "    }\n",
              "\n",
              "    [theme=dark] .colab-df-convert:hover {\n",
              "      background-color: #434B5C;\n",
              "      box-shadow: 0px 1px 3px 1px rgba(0, 0, 0, 0.15);\n",
              "      filter: drop-shadow(0px 1px 2px rgba(0, 0, 0, 0.3));\n",
              "      fill: #FFFFFF;\n",
              "    }\n",
              "  </style>\n",
              "\n",
              "      <script>\n",
              "        const buttonEl =\n",
              "          document.querySelector('#df-4528fae7-ca92-4cee-8f0a-e48aab2dd395 button.colab-df-convert');\n",
              "        buttonEl.style.display =\n",
              "          google.colab.kernel.accessAllowed ? 'block' : 'none';\n",
              "\n",
              "        async function convertToInteractive(key) {\n",
              "          const element = document.querySelector('#df-4528fae7-ca92-4cee-8f0a-e48aab2dd395');\n",
              "          const dataTable =\n",
              "            await google.colab.kernel.invokeFunction('convertToInteractive',\n",
              "                                                     [key], {});\n",
              "          if (!dataTable) return;\n",
              "\n",
              "          const docLinkHtml = 'Like what you see? Visit the ' +\n",
              "            '<a target=\"_blank\" href=https://colab.research.google.com/notebooks/data_table.ipynb>data table notebook</a>'\n",
              "            + ' to learn more about interactive tables.';\n",
              "          element.innerHTML = '';\n",
              "          dataTable['output_type'] = 'display_data';\n",
              "          await google.colab.output.renderOutput(dataTable, element);\n",
              "          const docLink = document.createElement('div');\n",
              "          docLink.innerHTML = docLinkHtml;\n",
              "          element.appendChild(docLink);\n",
              "        }\n",
              "      </script>\n",
              "    </div>\n",
              "  </div>\n",
              "  "
            ]
          },
          "metadata": {},
          "execution_count": 26
        }
      ]
    },
    {
      "cell_type": "code",
      "source": [
        "df1 = df[df.Outcome == 1]\n",
        "print(df1)"
      ],
      "metadata": {
        "colab": {
          "base_uri": "https://localhost:8080/"
        },
        "id": "2-WXnnKu7YTa",
        "outputId": "4bfa9aaa-7b87-4f20-d9ae-5d31d1f69978"
      },
      "execution_count": null,
      "outputs": [
        {
          "output_type": "stream",
          "name": "stdout",
          "text": [
            "Empty DataFrame\n",
            "Columns: [Pregnancies, Glucose, BloodPressure, SkinThickness, Insulin, BMI, DiabetesPedigreeFunction, Age, Outcome]\n",
            "Index: []\n"
          ]
        }
      ]
    },
    {
      "cell_type": "code",
      "source": [
        "df1.info()"
      ],
      "metadata": {
        "colab": {
          "base_uri": "https://localhost:8080/"
        },
        "id": "Bn8YXFtc-cqk",
        "outputId": "d8759325-f3e9-40e2-9489-e1b651846434"
      },
      "execution_count": null,
      "outputs": [
        {
          "output_type": "stream",
          "name": "stdout",
          "text": [
            "<class 'pandas.core.frame.DataFrame'>\n",
            "Int64Index: 268 entries, 0 to 766\n",
            "Data columns (total 9 columns):\n",
            " #   Column                    Non-Null Count  Dtype  \n",
            "---  ------                    --------------  -----  \n",
            " 0   Pregnancies               255 non-null    float64\n",
            " 1   Glucose                   256 non-null    float64\n",
            " 2   BloodPressure             242 non-null    float64\n",
            " 3   SkinThickness             178 non-null    float64\n",
            " 4   Insulin                   125 non-null    float64\n",
            " 5   BMI                       254 non-null    float64\n",
            " 6   DiabetesPedigreeFunction  256 non-null    float64\n",
            " 7   Age                       244 non-null    float64\n",
            " 8   Outcome                   268 non-null    int64  \n",
            "dtypes: float64(8), int64(1)\n",
            "memory usage: 20.9 KB\n"
          ]
        }
      ]
    },
    {
      "cell_type": "code",
      "source": [
        "df1.describe()"
      ],
      "metadata": {
        "colab": {
          "base_uri": "https://localhost:8080/",
          "height": 300
        },
        "id": "xyCfwglFAfzt",
        "outputId": "74506801-04bc-45db-dec8-5327e9eb6bf9"
      },
      "execution_count": null,
      "outputs": [
        {
          "output_type": "execute_result",
          "data": {
            "text/plain": [
              "       Pregnancies     Glucose  BloodPressure  SkinThickness     Insulin  \\\n",
              "count   255.000000  256.000000     242.000000     178.000000  125.000000   \n",
              "mean      4.835294  142.039062      75.247934      33.095506  205.048000   \n",
              "std       3.755879   29.598994      12.265920      10.260278  131.233654   \n",
              "min       0.000000   78.000000      30.000000       7.000000   14.000000   \n",
              "25%       1.500000  119.000000      68.000000      27.000000  127.000000   \n",
              "50%       4.000000  140.000000      74.500000      32.000000  171.000000   \n",
              "75%       8.000000  167.000000      82.000000      39.000000  237.000000   \n",
              "max      17.000000  198.000000     114.000000      99.000000  846.000000   \n",
              "\n",
              "              BMI  DiabetesPedigreeFunction         Age  Outcome  \n",
              "count  254.000000                256.000000  244.000000    268.0  \n",
              "mean    35.375197                  0.551559   37.536885      1.0  \n",
              "std      6.574749                  0.372633   11.051073      0.0  \n",
              "min     22.900000                  0.088000   21.000000      1.0  \n",
              "25%     30.825000                  0.263750   28.750000      1.0  \n",
              "50%     34.300000                  0.453500   36.000000      1.0  \n",
              "75%     38.650000                  0.728000   45.000000      1.0  \n",
              "max     67.100000                  2.420000   70.000000      1.0  "
            ],
            "text/html": [
              "\n",
              "  <div id=\"df-39366a65-bc72-4667-be00-4fe5adb52adc\">\n",
              "    <div class=\"colab-df-container\">\n",
              "      <div>\n",
              "<style scoped>\n",
              "    .dataframe tbody tr th:only-of-type {\n",
              "        vertical-align: middle;\n",
              "    }\n",
              "\n",
              "    .dataframe tbody tr th {\n",
              "        vertical-align: top;\n",
              "    }\n",
              "\n",
              "    .dataframe thead th {\n",
              "        text-align: right;\n",
              "    }\n",
              "</style>\n",
              "<table border=\"1\" class=\"dataframe\">\n",
              "  <thead>\n",
              "    <tr style=\"text-align: right;\">\n",
              "      <th></th>\n",
              "      <th>Pregnancies</th>\n",
              "      <th>Glucose</th>\n",
              "      <th>BloodPressure</th>\n",
              "      <th>SkinThickness</th>\n",
              "      <th>Insulin</th>\n",
              "      <th>BMI</th>\n",
              "      <th>DiabetesPedigreeFunction</th>\n",
              "      <th>Age</th>\n",
              "      <th>Outcome</th>\n",
              "    </tr>\n",
              "  </thead>\n",
              "  <tbody>\n",
              "    <tr>\n",
              "      <th>count</th>\n",
              "      <td>255.000000</td>\n",
              "      <td>256.000000</td>\n",
              "      <td>242.000000</td>\n",
              "      <td>178.000000</td>\n",
              "      <td>125.000000</td>\n",
              "      <td>254.000000</td>\n",
              "      <td>256.000000</td>\n",
              "      <td>244.000000</td>\n",
              "      <td>268.0</td>\n",
              "    </tr>\n",
              "    <tr>\n",
              "      <th>mean</th>\n",
              "      <td>4.835294</td>\n",
              "      <td>142.039062</td>\n",
              "      <td>75.247934</td>\n",
              "      <td>33.095506</td>\n",
              "      <td>205.048000</td>\n",
              "      <td>35.375197</td>\n",
              "      <td>0.551559</td>\n",
              "      <td>37.536885</td>\n",
              "      <td>1.0</td>\n",
              "    </tr>\n",
              "    <tr>\n",
              "      <th>std</th>\n",
              "      <td>3.755879</td>\n",
              "      <td>29.598994</td>\n",
              "      <td>12.265920</td>\n",
              "      <td>10.260278</td>\n",
              "      <td>131.233654</td>\n",
              "      <td>6.574749</td>\n",
              "      <td>0.372633</td>\n",
              "      <td>11.051073</td>\n",
              "      <td>0.0</td>\n",
              "    </tr>\n",
              "    <tr>\n",
              "      <th>min</th>\n",
              "      <td>0.000000</td>\n",
              "      <td>78.000000</td>\n",
              "      <td>30.000000</td>\n",
              "      <td>7.000000</td>\n",
              "      <td>14.000000</td>\n",
              "      <td>22.900000</td>\n",
              "      <td>0.088000</td>\n",
              "      <td>21.000000</td>\n",
              "      <td>1.0</td>\n",
              "    </tr>\n",
              "    <tr>\n",
              "      <th>25%</th>\n",
              "      <td>1.500000</td>\n",
              "      <td>119.000000</td>\n",
              "      <td>68.000000</td>\n",
              "      <td>27.000000</td>\n",
              "      <td>127.000000</td>\n",
              "      <td>30.825000</td>\n",
              "      <td>0.263750</td>\n",
              "      <td>28.750000</td>\n",
              "      <td>1.0</td>\n",
              "    </tr>\n",
              "    <tr>\n",
              "      <th>50%</th>\n",
              "      <td>4.000000</td>\n",
              "      <td>140.000000</td>\n",
              "      <td>74.500000</td>\n",
              "      <td>32.000000</td>\n",
              "      <td>171.000000</td>\n",
              "      <td>34.300000</td>\n",
              "      <td>0.453500</td>\n",
              "      <td>36.000000</td>\n",
              "      <td>1.0</td>\n",
              "    </tr>\n",
              "    <tr>\n",
              "      <th>75%</th>\n",
              "      <td>8.000000</td>\n",
              "      <td>167.000000</td>\n",
              "      <td>82.000000</td>\n",
              "      <td>39.000000</td>\n",
              "      <td>237.000000</td>\n",
              "      <td>38.650000</td>\n",
              "      <td>0.728000</td>\n",
              "      <td>45.000000</td>\n",
              "      <td>1.0</td>\n",
              "    </tr>\n",
              "    <tr>\n",
              "      <th>max</th>\n",
              "      <td>17.000000</td>\n",
              "      <td>198.000000</td>\n",
              "      <td>114.000000</td>\n",
              "      <td>99.000000</td>\n",
              "      <td>846.000000</td>\n",
              "      <td>67.100000</td>\n",
              "      <td>2.420000</td>\n",
              "      <td>70.000000</td>\n",
              "      <td>1.0</td>\n",
              "    </tr>\n",
              "  </tbody>\n",
              "</table>\n",
              "</div>\n",
              "      <button class=\"colab-df-convert\" onclick=\"convertToInteractive('df-39366a65-bc72-4667-be00-4fe5adb52adc')\"\n",
              "              title=\"Convert this dataframe to an interactive table.\"\n",
              "              style=\"display:none;\">\n",
              "        \n",
              "  <svg xmlns=\"http://www.w3.org/2000/svg\" height=\"24px\"viewBox=\"0 0 24 24\"\n",
              "       width=\"24px\">\n",
              "    <path d=\"M0 0h24v24H0V0z\" fill=\"none\"/>\n",
              "    <path d=\"M18.56 5.44l.94 2.06.94-2.06 2.06-.94-2.06-.94-.94-2.06-.94 2.06-2.06.94zm-11 1L8.5 8.5l.94-2.06 2.06-.94-2.06-.94L8.5 2.5l-.94 2.06-2.06.94zm10 10l.94 2.06.94-2.06 2.06-.94-2.06-.94-.94-2.06-.94 2.06-2.06.94z\"/><path d=\"M17.41 7.96l-1.37-1.37c-.4-.4-.92-.59-1.43-.59-.52 0-1.04.2-1.43.59L10.3 9.45l-7.72 7.72c-.78.78-.78 2.05 0 2.83L4 21.41c.39.39.9.59 1.41.59.51 0 1.02-.2 1.41-.59l7.78-7.78 2.81-2.81c.8-.78.8-2.07 0-2.86zM5.41 20L4 18.59l7.72-7.72 1.47 1.35L5.41 20z\"/>\n",
              "  </svg>\n",
              "      </button>\n",
              "      \n",
              "  <style>\n",
              "    .colab-df-container {\n",
              "      display:flex;\n",
              "      flex-wrap:wrap;\n",
              "      gap: 12px;\n",
              "    }\n",
              "\n",
              "    .colab-df-convert {\n",
              "      background-color: #E8F0FE;\n",
              "      border: none;\n",
              "      border-radius: 50%;\n",
              "      cursor: pointer;\n",
              "      display: none;\n",
              "      fill: #1967D2;\n",
              "      height: 32px;\n",
              "      padding: 0 0 0 0;\n",
              "      width: 32px;\n",
              "    }\n",
              "\n",
              "    .colab-df-convert:hover {\n",
              "      background-color: #E2EBFA;\n",
              "      box-shadow: 0px 1px 2px rgba(60, 64, 67, 0.3), 0px 1px 3px 1px rgba(60, 64, 67, 0.15);\n",
              "      fill: #174EA6;\n",
              "    }\n",
              "\n",
              "    [theme=dark] .colab-df-convert {\n",
              "      background-color: #3B4455;\n",
              "      fill: #D2E3FC;\n",
              "    }\n",
              "\n",
              "    [theme=dark] .colab-df-convert:hover {\n",
              "      background-color: #434B5C;\n",
              "      box-shadow: 0px 1px 3px 1px rgba(0, 0, 0, 0.15);\n",
              "      filter: drop-shadow(0px 1px 2px rgba(0, 0, 0, 0.3));\n",
              "      fill: #FFFFFF;\n",
              "    }\n",
              "  </style>\n",
              "\n",
              "      <script>\n",
              "        const buttonEl =\n",
              "          document.querySelector('#df-39366a65-bc72-4667-be00-4fe5adb52adc button.colab-df-convert');\n",
              "        buttonEl.style.display =\n",
              "          google.colab.kernel.accessAllowed ? 'block' : 'none';\n",
              "\n",
              "        async function convertToInteractive(key) {\n",
              "          const element = document.querySelector('#df-39366a65-bc72-4667-be00-4fe5adb52adc');\n",
              "          const dataTable =\n",
              "            await google.colab.kernel.invokeFunction('convertToInteractive',\n",
              "                                                     [key], {});\n",
              "          if (!dataTable) return;\n",
              "\n",
              "          const docLinkHtml = 'Like what you see? Visit the ' +\n",
              "            '<a target=\"_blank\" href=https://colab.research.google.com/notebooks/data_table.ipynb>data table notebook</a>'\n",
              "            + ' to learn more about interactive tables.';\n",
              "          element.innerHTML = '';\n",
              "          dataTable['output_type'] = 'display_data';\n",
              "          await google.colab.output.renderOutput(dataTable, element);\n",
              "          const docLink = document.createElement('div');\n",
              "          docLink.innerHTML = docLinkHtml;\n",
              "          element.appendChild(docLink);\n",
              "        }\n",
              "      </script>\n",
              "    </div>\n",
              "  </div>\n",
              "  "
            ]
          },
          "metadata": {},
          "execution_count": 29
        }
      ]
    },
    {
      "cell_type": "markdown",
      "source": [
        "### Filling the missing values with median after checking actual values for the columns. Columns BMI & Diabetes pedigree function are filled with mean."
      ],
      "metadata": {
        "id": "RFLEIiBjGm28"
      }
    },
    {
      "cell_type": "code",
      "source": [
        "df0['Pregnancies'].fillna(float(df0['Pregnancies'].median()),inplace=True)\n",
        "df0['Glucose'].fillna(float(df0['Glucose'].median()),inplace=True)\n",
        "df0['BloodPressure'].fillna(float(df0['BloodPressure'].median()),inplace=True)\n",
        "df0['SkinThickness'].fillna(float(df0['SkinThickness'].median()),inplace=True)\n",
        "df0['Insulin'].fillna(float(df0['Insulin'].median()),inplace=True)\n",
        "df0['Age'].fillna(float(df0['Age'].median()),inplace=True)\n",
        "df0['BMI'].fillna(float(df0['BMI'].mean()),inplace=True)\n",
        "df0['DiabetesPedigreeFunction'].fillna(float(df0['DiabetesPedigreeFunction'].mean()),inplace=True)\n",
        "\n"
      ],
      "metadata": {
        "colab": {
          "base_uri": "https://localhost:8080/"
        },
        "id": "RB_HrqtiBHmm",
        "outputId": "dbe9ca73-dd40-4d6c-a00e-7d4bf092ce64"
      },
      "execution_count": null,
      "outputs": [
        {
          "output_type": "stream",
          "name": "stderr",
          "text": [
            "/usr/local/lib/python3.7/dist-packages/pandas/core/generic.py:6392: SettingWithCopyWarning: \n",
            "A value is trying to be set on a copy of a slice from a DataFrame\n",
            "\n",
            "See the caveats in the documentation: https://pandas.pydata.org/pandas-docs/stable/user_guide/indexing.html#returning-a-view-versus-a-copy\n",
            "  return self._update_inplace(result)\n",
            "/usr/local/lib/python3.7/dist-packages/pandas/core/generic.py:6392: SettingWithCopyWarning: \n",
            "A value is trying to be set on a copy of a slice from a DataFrame\n",
            "\n",
            "See the caveats in the documentation: https://pandas.pydata.org/pandas-docs/stable/user_guide/indexing.html#returning-a-view-versus-a-copy\n",
            "  return self._update_inplace(result)\n",
            "/usr/local/lib/python3.7/dist-packages/pandas/core/generic.py:6392: SettingWithCopyWarning: \n",
            "A value is trying to be set on a copy of a slice from a DataFrame\n",
            "\n",
            "See the caveats in the documentation: https://pandas.pydata.org/pandas-docs/stable/user_guide/indexing.html#returning-a-view-versus-a-copy\n",
            "  return self._update_inplace(result)\n",
            "/usr/local/lib/python3.7/dist-packages/pandas/core/generic.py:6392: SettingWithCopyWarning: \n",
            "A value is trying to be set on a copy of a slice from a DataFrame\n",
            "\n",
            "See the caveats in the documentation: https://pandas.pydata.org/pandas-docs/stable/user_guide/indexing.html#returning-a-view-versus-a-copy\n",
            "  return self._update_inplace(result)\n",
            "/usr/local/lib/python3.7/dist-packages/pandas/core/generic.py:6392: SettingWithCopyWarning: \n",
            "A value is trying to be set on a copy of a slice from a DataFrame\n",
            "\n",
            "See the caveats in the documentation: https://pandas.pydata.org/pandas-docs/stable/user_guide/indexing.html#returning-a-view-versus-a-copy\n",
            "  return self._update_inplace(result)\n",
            "/usr/local/lib/python3.7/dist-packages/pandas/core/generic.py:6392: SettingWithCopyWarning: \n",
            "A value is trying to be set on a copy of a slice from a DataFrame\n",
            "\n",
            "See the caveats in the documentation: https://pandas.pydata.org/pandas-docs/stable/user_guide/indexing.html#returning-a-view-versus-a-copy\n",
            "  return self._update_inplace(result)\n"
          ]
        }
      ]
    },
    {
      "cell_type": "code",
      "source": [
        "df0.info()"
      ],
      "metadata": {
        "colab": {
          "base_uri": "https://localhost:8080/"
        },
        "id": "5dcTHt3_BKPG",
        "outputId": "f830b6fe-acd2-44bb-d42d-369d787ed5cc"
      },
      "execution_count": null,
      "outputs": [
        {
          "output_type": "stream",
          "name": "stdout",
          "text": [
            "<class 'pandas.core.frame.DataFrame'>\n",
            "Int64Index: 500 entries, 1 to 767\n",
            "Data columns (total 9 columns):\n",
            " #   Column                    Non-Null Count  Dtype  \n",
            "---  ------                    --------------  -----  \n",
            " 0   Pregnancies               500 non-null    float64\n",
            " 1   Glucose                   500 non-null    float64\n",
            " 2   BloodPressure             500 non-null    float64\n",
            " 3   SkinThickness             500 non-null    float64\n",
            " 4   Insulin                   500 non-null    float64\n",
            " 5   BMI                       500 non-null    float64\n",
            " 6   DiabetesPedigreeFunction  500 non-null    float64\n",
            " 7   Age                       500 non-null    float64\n",
            " 8   Outcome                   500 non-null    int64  \n",
            "dtypes: float64(8), int64(1)\n",
            "memory usage: 39.1 KB\n"
          ]
        }
      ]
    },
    {
      "cell_type": "code",
      "source": [
        "df1['Pregnancies'].fillna(float(df1['Pregnancies'].median()),inplace=True)\n",
        "df1['Glucose'].fillna(float(df1['Glucose'].median()),inplace=True)\n",
        "df1['BloodPressure'].fillna(int(df1['BloodPressure'].median()),inplace=True)\n",
        "df1['SkinThickness'].fillna(float(df1['SkinThickness'].median()),inplace=True)\n",
        "df1['Insulin'].fillna(float(df1['Insulin'].median()),inplace=True)\n",
        "df1['Age'].fillna(float(df1['Age'].median()),inplace=True)\n",
        "df1['BMI'].fillna(float(df1['BMI'].mean()),inplace=True)\n",
        "df1['DiabetesPedigreeFunction'].fillna(float(df1['DiabetesPedigreeFunction'].mean()),inplace=True)\n"
      ],
      "metadata": {
        "colab": {
          "base_uri": "https://localhost:8080/"
        },
        "id": "tqvJJbiwDPai",
        "outputId": "c1f9dcb6-6009-42b6-d5b4-5f6a6ae88de3"
      },
      "execution_count": null,
      "outputs": [
        {
          "output_type": "stream",
          "name": "stderr",
          "text": [
            "/usr/local/lib/python3.7/dist-packages/pandas/core/generic.py:6392: SettingWithCopyWarning: \n",
            "A value is trying to be set on a copy of a slice from a DataFrame\n",
            "\n",
            "See the caveats in the documentation: https://pandas.pydata.org/pandas-docs/stable/user_guide/indexing.html#returning-a-view-versus-a-copy\n",
            "  return self._update_inplace(result)\n",
            "/usr/local/lib/python3.7/dist-packages/pandas/core/generic.py:6392: SettingWithCopyWarning: \n",
            "A value is trying to be set on a copy of a slice from a DataFrame\n",
            "\n",
            "See the caveats in the documentation: https://pandas.pydata.org/pandas-docs/stable/user_guide/indexing.html#returning-a-view-versus-a-copy\n",
            "  return self._update_inplace(result)\n",
            "/usr/local/lib/python3.7/dist-packages/pandas/core/generic.py:6392: SettingWithCopyWarning: \n",
            "A value is trying to be set on a copy of a slice from a DataFrame\n",
            "\n",
            "See the caveats in the documentation: https://pandas.pydata.org/pandas-docs/stable/user_guide/indexing.html#returning-a-view-versus-a-copy\n",
            "  return self._update_inplace(result)\n",
            "/usr/local/lib/python3.7/dist-packages/pandas/core/generic.py:6392: SettingWithCopyWarning: \n",
            "A value is trying to be set on a copy of a slice from a DataFrame\n",
            "\n",
            "See the caveats in the documentation: https://pandas.pydata.org/pandas-docs/stable/user_guide/indexing.html#returning-a-view-versus-a-copy\n",
            "  return self._update_inplace(result)\n",
            "/usr/local/lib/python3.7/dist-packages/pandas/core/generic.py:6392: SettingWithCopyWarning: \n",
            "A value is trying to be set on a copy of a slice from a DataFrame\n",
            "\n",
            "See the caveats in the documentation: https://pandas.pydata.org/pandas-docs/stable/user_guide/indexing.html#returning-a-view-versus-a-copy\n",
            "  return self._update_inplace(result)\n",
            "/usr/local/lib/python3.7/dist-packages/pandas/core/generic.py:6392: SettingWithCopyWarning: \n",
            "A value is trying to be set on a copy of a slice from a DataFrame\n",
            "\n",
            "See the caveats in the documentation: https://pandas.pydata.org/pandas-docs/stable/user_guide/indexing.html#returning-a-view-versus-a-copy\n",
            "  return self._update_inplace(result)\n"
          ]
        }
      ]
    },
    {
      "cell_type": "code",
      "source": [
        "df1.info()"
      ],
      "metadata": {
        "colab": {
          "base_uri": "https://localhost:8080/"
        },
        "id": "gLFOtsr_DoMG",
        "outputId": "95887849-aac9-4443-9bed-6fd01234f6db"
      },
      "execution_count": null,
      "outputs": [
        {
          "output_type": "stream",
          "name": "stdout",
          "text": [
            "<class 'pandas.core.frame.DataFrame'>\n",
            "Int64Index: 268 entries, 0 to 766\n",
            "Data columns (total 9 columns):\n",
            " #   Column                    Non-Null Count  Dtype  \n",
            "---  ------                    --------------  -----  \n",
            " 0   Pregnancies               268 non-null    float64\n",
            " 1   Glucose                   268 non-null    float64\n",
            " 2   BloodPressure             268 non-null    float64\n",
            " 3   SkinThickness             268 non-null    float64\n",
            " 4   Insulin                   268 non-null    float64\n",
            " 5   BMI                       268 non-null    float64\n",
            " 6   DiabetesPedigreeFunction  268 non-null    float64\n",
            " 7   Age                       268 non-null    float64\n",
            " 8   Outcome                   268 non-null    int64  \n",
            "dtypes: float64(8), int64(1)\n",
            "memory usage: 20.9 KB\n"
          ]
        }
      ]
    },
    {
      "cell_type": "markdown",
      "source": [
        "### Removing Outliers"
      ],
      "metadata": {
        "id": "sjcotGDlHHcq"
      }
    },
    {
      "cell_type": "code",
      "source": [
        "fig,ax = plt.subplots(figsize=(25,10))\n",
        "sns.boxplot(data=df0,palette='rainbow')"
      ],
      "metadata": {
        "colab": {
          "base_uri": "https://localhost:8080/",
          "height": 556
        },
        "id": "t-QfKLMBLViE",
        "outputId": "cdad0dbb-8244-41ea-be8b-d2ac76b4c32f"
      },
      "execution_count": null,
      "outputs": [
        {
          "output_type": "execute_result",
          "data": {
            "text/plain": [
              "<matplotlib.axes._subplots.AxesSubplot at 0x7fcd8bc98110>"
            ]
          },
          "metadata": {},
          "execution_count": 34
        },
        {
          "output_type": "display_data",
          "data": {
            "text/plain": [
              "<Figure size 1800x720 with 1 Axes>"
            ],
            "image/png": "[encoded data removed]"
          },
          "metadata": {
            "needs_background": "light"
          }
        }
      ]
    },
    {
      "cell_type": "code",
      "source": [
        "sns.boxplot(data=df0.Pregnancies.values,palette='rainbow')"
      ],
      "metadata": {
        "colab": {
          "base_uri": "https://localhost:8080/",
          "height": 283
        },
        "id": "uBImr5hGLgTL",
        "outputId": "c6e637f2-c0f2-4df4-be0f-9b4613970450"
      },
      "execution_count": null,
      "outputs": [
        {
          "output_type": "execute_result",
          "data": {
            "text/plain": [
              "<matplotlib.axes._subplots.AxesSubplot at 0x7fcd8ec74410>"
            ]
          },
          "metadata": {},
          "execution_count": 35
        },
        {
          "output_type": "display_data",
          "data": {
            "text/plain": [
              "<Figure size 432x288 with 1 Axes>"
            ],
            "image/png": "[encoded data removed]"
          },
          "metadata": {
            "needs_background": "light"
          }
        }
      ]
    },
    {
      "cell_type": "code",
      "source": [
        "sns.boxplot(data=df0.Glucose.values,palette='rainbow')\n"
      ],
      "metadata": {
        "colab": {
          "base_uri": "https://localhost:8080/",
          "height": 283
        },
        "id": "4SoVSKmxNT_D",
        "outputId": "c262a245-00f6-44e4-b4ee-56be1bc72cc4"
      },
      "execution_count": null,
      "outputs": [
        {
          "output_type": "execute_result",
          "data": {
            "text/plain": [
              "<matplotlib.axes._subplots.AxesSubplot at 0x7fcd8bac3bd0>"
            ]
          },
          "metadata": {},
          "execution_count": 36
        },
        {
          "output_type": "display_data",
          "data": {
            "text/plain": [
              "<Figure size 432x288 with 1 Axes>"
            ],
            "image/png": "[encoded data removed]"
          },
          "metadata": {
            "needs_background": "light"
          }
        }
      ]
    },
    {
      "cell_type": "code",
      "source": [
        "sns.boxplot(data=df0.BloodPressure.values,palette='rainbow')\n"
      ],
      "metadata": {
        "colab": {
          "base_uri": "https://localhost:8080/",
          "height": 283
        },
        "id": "p_JlHpA3Ms9q",
        "outputId": "9e6dab58-ab53-4e03-87e6-e31918f64e34"
      },
      "execution_count": null,
      "outputs": [
        {
          "output_type": "execute_result",
          "data": {
            "text/plain": [
              "<matplotlib.axes._subplots.AxesSubplot at 0x7fcd8ba3db50>"
            ]
          },
          "metadata": {},
          "execution_count": 37
        },
        {
          "output_type": "display_data",
          "data": {
            "text/plain": [
              "<Figure size 432x288 with 1 Axes>"
            ],
            "image/png": "[encoded data removed]"
          },
          "metadata": {
            "needs_background": "light"
          }
        }
      ]
    },
    {
      "cell_type": "code",
      "source": [
        "sns.boxplot(data=df0.SkinThickness.values,palette='rainbow')\n"
      ],
      "metadata": {
        "colab": {
          "base_uri": "https://localhost:8080/",
          "height": 283
        },
        "id": "Q0VbfAw6QBwt",
        "outputId": "d4e6fa33-3056-4313-cea7-b9b0944e6760"
      },
      "execution_count": null,
      "outputs": [
        {
          "output_type": "execute_result",
          "data": {
            "text/plain": [
              "<matplotlib.axes._subplots.AxesSubplot at 0x7fcd8ba26b50>"
            ]
          },
          "metadata": {},
          "execution_count": 38
        },
        {
          "output_type": "display_data",
          "data": {
            "text/plain": [
              "<Figure size 432x288 with 1 Axes>"
            ],
            "image/png": "[encoded data removed]"
          },
          "metadata": {
            "needs_background": "light"
          }
        }
      ]
    },
    {
      "cell_type": "code",
      "source": [
        "sns.boxplot(data=df0.Insulin.values,palette='rainbow')\n"
      ],
      "metadata": {
        "colab": {
          "base_uri": "https://localhost:8080/",
          "height": 283
        },
        "id": "WhNjqg_kQFk9",
        "outputId": "0aad1b96-24ba-4874-b4d6-3d95f4ac9f2f"
      },
      "execution_count": null,
      "outputs": [
        {
          "output_type": "execute_result",
          "data": {
            "text/plain": [
              "<matplotlib.axes._subplots.AxesSubplot at 0x7fcd8b992250>"
            ]
          },
          "metadata": {},
          "execution_count": 39
        },
        {
          "output_type": "display_data",
          "data": {
            "text/plain": [
              "<Figure size 432x288 with 1 Axes>"
            ],
            "image/png": "[encoded data removed]"
          },
          "metadata": {
            "needs_background": "light"
          }
        }
      ]
    },
    {
      "cell_type": "code",
      "source": [
        "sns.boxplot(data=df0.BMI.values,palette='rainbow')\n"
      ],
      "metadata": {
        "colab": {
          "base_uri": "https://localhost:8080/",
          "height": 283
        },
        "id": "MCTiDqwzQI69",
        "outputId": "c2dbb1c0-c19f-4039-95e0-eded12acd51a"
      },
      "execution_count": null,
      "outputs": [
        {
          "output_type": "execute_result",
          "data": {
            "text/plain": [
              "<matplotlib.axes._subplots.AxesSubplot at 0x7fcd8b8fee50>"
            ]
          },
          "metadata": {},
          "execution_count": 40
        },
        {
          "output_type": "display_data",
          "data": {
            "text/plain": [
              "<Figure size 432x288 with 1 Axes>"
            ],
            "image/png": "[encoded data removed]"
          },
          "metadata": {
            "needs_background": "light"
          }
        }
      ]
    },
    {
      "cell_type": "code",
      "source": [
        "sns.boxplot(data=df0.DiabetesPedigreeFunction.values,palette='rainbow')\n"
      ],
      "metadata": {
        "colab": {
          "base_uri": "https://localhost:8080/",
          "height": 283
        },
        "id": "Y1yxKZEYQPPd",
        "outputId": "432ee53e-60c6-4aff-b9ab-93a8b2954388"
      },
      "execution_count": null,
      "outputs": [
        {
          "output_type": "execute_result",
          "data": {
            "text/plain": [
              "<matplotlib.axes._subplots.AxesSubplot at 0x7fcd8b87e190>"
            ]
          },
          "metadata": {},
          "execution_count": 41
        },
        {
          "output_type": "display_data",
          "data": {
            "text/plain": [
              "<Figure size 432x288 with 1 Axes>"
            ],
            "image/png": "[encoded data removed]"
          },
          "metadata": {
            "needs_background": "light"
          }
        }
      ]
    },
    {
      "cell_type": "code",
      "source": [
        "sns.boxplot(data=df0.Age.values,palette='rainbow')\n"
      ],
      "metadata": {
        "colab": {
          "base_uri": "https://localhost:8080/",
          "height": 283
        },
        "id": "V2bb4cDaQVuF",
        "outputId": "aea4858e-f0eb-4ff4-bad4-214ab529c9b5"
      },
      "execution_count": null,
      "outputs": [
        {
          "output_type": "execute_result",
          "data": {
            "text/plain": [
              "<matplotlib.axes._subplots.AxesSubplot at 0x7fcd8f41c3d0>"
            ]
          },
          "metadata": {},
          "execution_count": 42
        },
        {
          "output_type": "display_data",
          "data": {
            "text/plain": [
              "<Figure size 432x288 with 1 Axes>"
            ],
            "image/png": "[encoded data removed]"
          },
          "metadata": {
            "needs_background": "light"
          }
        }
      ]
    },
    {
      "cell_type": "code",
      "source": [
        "preg0_iqr = df0.Pregnancies.quantile(0.75) - df0.Pregnancies.quantile(0.25)\n",
        "gluc0_iqr = df0.Glucose.quantile(0.75) - df0.Glucose.quantile(0.25)\n",
        "bp0_iqr = df0.BloodPressure.quantile(0.75) - df0.BloodPressure.quantile(0.25)\n",
        "skin0_iqr = df0.SkinThickness.quantile(0.75) - df0.SkinThickness.quantile(0.25)\n",
        "insulin0_iqr = df0.Insulin.quantile(0.75) - df0.Insulin.quantile(0.25)\n",
        "bmi0_iqr = df0.BMI.quantile(0.75) - df0.BMI.quantile(0.25)\n",
        "dia0_iqr = df0.DiabetesPedigreeFunction.quantile(0.75) - df0.DiabetesPedigreeFunction.quantile(0.25)\n",
        "age0_iqr = df0.Age.quantile(0.75) - df0.Age.quantile(0.25)\n"
      ],
      "metadata": {
        "id": "opTk2iO-QXdE"
      },
      "execution_count": null,
      "outputs": []
    },
    {
      "cell_type": "code",
      "source": [
        "df0 = df0[(df0.Pregnancies > df0.Pregnancies.quantile(0.25)-1.5*preg0_iqr) & (df0.Pregnancies < df0.Pregnancies.quantile(0.75)+1.5*preg0_iqr)]\n",
        "df0 = df0[(df0.Glucose > df0.Glucose.quantile(0.25)-1.5*gluc0_iqr) & (df0.Glucose < df0.Glucose.quantile(0.75)+1.5*gluc0_iqr)]\n",
        "df0 = df0[(df0.BloodPressure > df0.BloodPressure.quantile(0.25)-1.5*bp0_iqr) & (df0.BloodPressure < df0.BloodPressure.quantile(0.75)+1.5*bp0_iqr)]\n",
        "df0 = df0[(df0.SkinThickness > df0.SkinThickness.quantile(0.25)-1.5*skin0_iqr) & (df0.SkinThickness < df0.SkinThickness.quantile(0.75)+1.5*skin0_iqr)]\n",
        "# df0 = df0[(df0.Insulin > df0.Insulin.quantile(0.25)-1.5*insulin0_iqr) & (df0.Insulin < df0.Insulin.quantile(0.75)+1.5*insulin0_iqr)]\n",
        "df0 = df0[(df0.BMI > df0.BMI.quantile(0.25)-1.5*bmi0_iqr) & (df0.BMI < df0.BMI.quantile(0.75)+1.5*bmi0_iqr)]\n",
        "df0 = df0[(df0.DiabetesPedigreeFunction > df0.DiabetesPedigreeFunction.quantile(0.25)-1.5*dia0_iqr) & (df0.DiabetesPedigreeFunction < df0.DiabetesPedigreeFunction.quantile(0.75)+1.5*dia0_iqr)]\n",
        "df0 = df0[(df0.Age > df0.Age.quantile(0.25)-1.5*age0_iqr) & (df0.Age < df0.Age.quantile(0.75)+1.5*age0_iqr)]"
      ],
      "metadata": {
        "id": "OIBq7uhPQxwv"
      },
      "execution_count": null,
      "outputs": []
    },
    {
      "cell_type": "code",
      "source": [
        "fig,ax = plt.subplots(figsize=(25,10))\n",
        "sns.boxplot(data=df0,palette='rainbow')"
      ],
      "metadata": {
        "colab": {
          "base_uri": "https://localhost:8080/",
          "height": 556
        },
        "id": "WJyr0e6PSrWq",
        "outputId": "d421f46e-c69d-4d7c-e3cd-34f3a3c2e8a7"
      },
      "execution_count": null,
      "outputs": [
        {
          "output_type": "execute_result",
          "data": {
            "text/plain": [
              "<matplotlib.axes._subplots.AxesSubplot at 0x7fcd8b7dd110>"
            ]
          },
          "metadata": {},
          "execution_count": 45
        },
        {
          "output_type": "display_data",
          "data": {
            "text/plain": [
              "<Figure size 1800x720 with 1 Axes>"
            ],
            "image/png": "[encoded data removed]"
          },
          "metadata": {
            "needs_background": "light"
          }
        }
      ]
    },
    {
      "cell_type": "code",
      "source": [
        "df0.info()"
      ],
      "metadata": {
        "colab": {
          "base_uri": "https://localhost:8080/"
        },
        "id": "Osu2c_59Sw5S",
        "outputId": "1e280059-0a47-4378-cf84-dea5c050f6e7"
      },
      "execution_count": null,
      "outputs": [
        {
          "output_type": "stream",
          "name": "stdout",
          "text": [
            "<class 'pandas.core.frame.DataFrame'>\n",
            "Int64Index: 376 entries, 1 to 767\n",
            "Data columns (total 9 columns):\n",
            " #   Column                    Non-Null Count  Dtype  \n",
            "---  ------                    --------------  -----  \n",
            " 0   Pregnancies               376 non-null    float64\n",
            " 1   Glucose                   376 non-null    float64\n",
            " 2   BloodPressure             376 non-null    float64\n",
            " 3   SkinThickness             376 non-null    float64\n",
            " 4   Insulin                   376 non-null    float64\n",
            " 5   BMI                       376 non-null    float64\n",
            " 6   DiabetesPedigreeFunction  376 non-null    float64\n",
            " 7   Age                       376 non-null    float64\n",
            " 8   Outcome                   376 non-null    int64  \n",
            "dtypes: float64(8), int64(1)\n",
            "memory usage: 29.4 KB\n"
          ]
        }
      ]
    },
    {
      "cell_type": "code",
      "source": [
        "df0.reset_index(inplace=True)\n",
        "df0 = df0.drop(['index'],axis=1)"
      ],
      "metadata": {
        "id": "5qKt5aYNikhA"
      },
      "execution_count": null,
      "outputs": []
    },
    {
      "cell_type": "code",
      "source": [
        "df0.Insulin.describe()"
      ],
      "metadata": {
        "colab": {
          "base_uri": "https://localhost:8080/"
        },
        "id": "TtfaFxT6S29y",
        "outputId": "df357875-efb5-4a0d-cefc-d2fbbb72a297"
      },
      "execution_count": null,
      "outputs": [
        {
          "output_type": "execute_result",
          "data": {
            "text/plain": [
              "count    376.000000\n",
              "mean     111.457447\n",
              "std       54.986770\n",
              "min       16.000000\n",
              "25%      105.000000\n",
              "50%      105.000000\n",
              "75%      105.000000\n",
              "max      440.000000\n",
              "Name: Insulin, dtype: float64"
            ]
          },
          "metadata": {},
          "execution_count": 48
        }
      ]
    },
    {
      "cell_type": "markdown",
      "source": [
        "### Since Insulin have zero iqr its outliers are removed using z score"
      ],
      "metadata": {
        "id": "WLaVjN3EHQX7"
      }
    },
    {
      "cell_type": "code",
      "source": [
        "insulin0_iqr = df0.Insulin.quantile(0.75) - df0.Insulin.quantile(0.25)\n",
        "insulin0_iqr"
      ],
      "metadata": {
        "colab": {
          "base_uri": "https://localhost:8080/"
        },
        "id": "Xg3OereeUHiJ",
        "outputId": "42349775-c65d-4d53-f296-5645a7e1f2ce"
      },
      "execution_count": null,
      "outputs": [
        {
          "output_type": "execute_result",
          "data": {
            "text/plain": [
              "0.0"
            ]
          },
          "metadata": {},
          "execution_count": 49
        }
      ]
    },
    {
      "cell_type": "code",
      "source": [
        "sns.boxplot(data=df0.Insulin.values,palette='rainbow')\n"
      ],
      "metadata": {
        "colab": {
          "base_uri": "https://localhost:8080/",
          "height": 283
        },
        "id": "mcPH2ZchVWbH",
        "outputId": "2cc9990f-8d88-4f64-b614-b3595d611f75"
      },
      "execution_count": null,
      "outputs": [
        {
          "output_type": "execute_result",
          "data": {
            "text/plain": [
              "<matplotlib.axes._subplots.AxesSubplot at 0x7fcd8b688f50>"
            ]
          },
          "metadata": {},
          "execution_count": 50
        },
        {
          "output_type": "display_data",
          "data": {
            "text/plain": [
              "<Figure size 432x288 with 1 Axes>"
            ],
            "image/png": "[encoded data removed]"
          },
          "metadata": {
            "needs_background": "light"
          }
        }
      ]
    },
    {
      "cell_type": "code",
      "source": [
        "np.where(df0.Insulin > 300)"
      ],
      "metadata": {
        "colab": {
          "base_uri": "https://localhost:8080/"
        },
        "id": "glJ87B_AUQo6",
        "outputId": "9722a871-bc8e-47d9-85c2-ecf86f40a949"
      },
      "execution_count": null,
      "outputs": [
        {
          "output_type": "execute_result",
          "data": {
            "text/plain": [
              "(array([ 68, 120, 183, 282, 320, 348, 349]),)"
            ]
          },
          "metadata": {},
          "execution_count": 51
        }
      ]
    },
    {
      "cell_type": "code",
      "source": [
        "from scipy import stats\n",
        "z = np.abs(stats.zscore(df0.Insulin))\n",
        "z"
      ],
      "metadata": {
        "colab": {
          "base_uri": "https://localhost:8080/"
        },
        "id": "-qfEblk9VxEt",
        "outputId": "929683c6-3c96-45c2-8a9f-3a54487fce92"
      },
      "execution_count": null,
      "outputs": [
        {
          "output_type": "execute_result",
          "data": {
            "text/plain": [
              "array([0.11759285, 0.31790753, 0.11759285, 0.11759285, 0.11759285,\n",
              "       0.11759285, 0.11759285, 0.11759285, 0.11759285, 0.11759285,\n",
              "       1.46671412, 0.11759285, 0.11759285, 0.11759285, 0.11759285,\n",
              "       0.11759285, 0.11759285, 1.37411217, 1.6108477 , 0.11759285,\n",
              "       0.30124692, 0.11759285, 1.33769132, 0.11759285, 0.51977202,\n",
              "       2.88712727, 0.11759285, 0.11759285, 0.11759285, 0.11759285,\n",
              "       0.11759285, 0.11759285, 0.11759285, 0.7367473 , 0.11759285,\n",
              "       0.24661565, 0.11759285, 0.11759285, 0.11759285, 1.17534732,\n",
              "       1.15558707, 0.86422027, 2.12228942, 0.11759285, 0.64569517,\n",
              "       0.86422027, 0.11759285, 0.11759285, 1.30127047, 0.11759285,\n",
              "       0.73829712, 0.51977202, 1.70189982, 1.35590175, 0.11759285,\n",
              "       0.11759285, 0.11759285, 1.1009558 , 0.11759285, 0.20864498,\n",
              "       0.4287199 , 0.31790753, 0.11759285, 1.13737665, 0.51977202,\n",
              "       1.11916622, 0.35432838, 0.11759285, 3.88870064, 0.11759285,\n",
              "       0.8824307 , 0.11759285, 0.11759285, 0.11759285, 0.11759285,\n",
              "       0.11759285, 0.31790753, 0.4287199 , 1.06453495, 0.11759285,\n",
              "       0.11759285, 3.16028364, 0.11759285, 0.11759285, 0.11759285,\n",
              "       0.11759285, 0.60927432, 0.11759285, 1.0281141 , 0.11759285,\n",
              "       0.11759285, 0.11759285, 0.35432838, 1.6108477 , 0.11759285,\n",
              "       0.11759285, 0.11759285, 0.11759285, 0.11759285, 0.11759285,\n",
              "       0.11759285, 0.11759285, 1.22842877, 0.11759285, 0.11759285,\n",
              "       0.11759285, 0.15556352, 0.11759285, 1.00990367, 1.44695387,\n",
              "       0.11759285, 1.06453495, 1.35590175, 0.11759285, 1.21021835,\n",
              "       0.11759285, 0.11759285, 0.11759285, 1.50313497, 0.11759285,\n",
              "       5.29090337, 0.11759285, 0.11759285, 0.11759285, 1.0281141 ,\n",
              "       0.11759285, 0.11759285, 0.11759285, 0.11759285, 0.11759285,\n",
              "       0.11759285, 0.11759285, 0.08272182, 0.19198437, 0.7929284 ,\n",
              "       0.4287199 , 1.13737665, 1.30127047, 0.11759285, 1.8855539 ,\n",
              "       0.11759285, 0.11759285, 0.11759285, 0.66545542, 0.11759285,\n",
              "       0.66545542, 0.31790753, 0.51977202, 2.1769207 , 0.11759285,\n",
              "       1.02966392, 0.79137857, 1.08274537, 0.97348282, 0.11759285,\n",
              "       0.11759285, 0.70032645, 0.11759285, 0.11759285, 0.06296158,\n",
              "       0.5182222 , 0.11759285, 0.11759285, 0.11759285, 0.11759285,\n",
              "       0.11759285, 1.2466392 , 0.11759285, 3.30596704, 0.5182222 ,\n",
              "       0.11759285, 0.82779942, 0.82779942, 0.31790753, 0.50001178,\n",
              "       0.6639056 , 0.53643263, 0.11759285, 0.9552724 , 0.02654073,\n",
              "       1.11916622, 0.55464305, 1.53955582, 5.52763889, 0.4453805 ,\n",
              "       0.0645114 , 0.11759285, 0.11759285, 0.97503265, 0.11759285,\n",
              "       0.11759285, 1.17534732, 0.91885155, 0.11759285, 0.64569517,\n",
              "       0.11759285, 0.11759285, 0.11759285, 0.48180135, 0.11759285,\n",
              "       0.11759285, 0.11759285, 0.11759285, 1.11916622, 0.15556352,\n",
              "       0.75495772, 0.11759285, 0.2996971 , 1.79450177, 0.11759285,\n",
              "       0.7367473 , 1.00990367, 0.11759285, 1.13737665, 0.11759285,\n",
              "       0.11759285, 0.20864498, 0.11759285, 0.11759285, 0.11759285,\n",
              "       0.11759285, 0.11759285, 0.02654073, 0.6639056 , 0.11759285,\n",
              "       1.13737665, 0.24661565, 0.11759285, 0.82779942, 0.11759285,\n",
              "       0.11759285, 0.11759285, 0.11759285, 0.64569517, 1.48492455,\n",
              "       0.7367473 , 0.11759285, 0.5910639 , 0.11759285, 0.11759285,\n",
              "       1.06608477, 0.64569517, 1.79450177, 0.11759285, 0.46359093,\n",
              "       0.11759285, 0.82779942, 0.33766777, 0.11759285, 0.11759285,\n",
              "       0.11759285, 0.11759285, 0.11759285, 1.39387242, 0.11759285,\n",
              "       0.09938243, 0.11759285, 0.11759285, 0.11759285, 0.11759285,\n",
              "       1.79450177, 1.00990367, 0.11759285, 0.99324307, 0.11759285,\n",
              "       0.09938243, 1.22842877, 0.0645114 , 1.8855539 , 0.11759285,\n",
              "       0.11759285, 0.62748475, 1.04632452, 0.11759285, 0.42717008,\n",
              "       0.11759285, 0.26482607, 0.11759285, 0.11759285, 0.11759285,\n",
              "       1.22842877, 0.15556352, 3.97975277, 0.33766777, 0.11759285,\n",
              "       0.11759285, 0.11759285, 0.11759285, 0.11759285, 0.11759285,\n",
              "       1.57442685, 0.11759285, 0.11759285, 0.11759285, 0.11759285,\n",
              "       1.28306005, 2.92354812, 1.28460987, 0.84755967, 0.11759285,\n",
              "       0.11759285, 0.11759285, 0.11759285, 0.0645114 , 0.11759285,\n",
              "       0.11759285, 0.11759285, 0.11759285, 0.11759285, 0.39074923,\n",
              "       0.11759285, 1.3028203 , 0.11759285, 0.11759285, 0.82779942,\n",
              "       1.19200792, 0.11759285, 0.11759285, 0.11759285, 0.73829712,\n",
              "       5.98289952, 0.11759285, 0.20864498, 0.09938243, 0.62748475,\n",
              "       0.11759285, 0.4287199 , 0.39074923, 1.43029327, 0.20864498,\n",
              "       1.02966392, 0.11759285, 2.79607515, 1.21021835, 0.11759285,\n",
              "       1.70344965, 0.11759285, 0.11759285, 1.24818902, 0.11759285,\n",
              "       0.11759285, 0.11759285, 0.11759285, 0.11759285, 1.61239752,\n",
              "       0.11759285, 0.20864498, 0.11759285, 4.07080489, 5.01774699,\n",
              "       1.62905812, 3.26954619, 0.11759285, 0.11759285, 1.61239752,\n",
              "       0.11759285, 0.11759285, 0.11759285, 0.11759285, 0.11759285,\n",
              "       0.11759285, 0.97503265, 0.11759285, 0.15556352, 0.11759285,\n",
              "       0.88398052, 0.31790753, 0.08272182, 0.68211602, 0.11759285,\n",
              "       0.11759285, 1.73832067, 0.11759285, 0.11759285, 0.00988012,\n",
              "       0.11759285])"
            ]
          },
          "metadata": {},
          "execution_count": 52
        }
      ]
    },
    {
      "cell_type": "code",
      "source": [
        "thres = 3\n",
        "np.where(z>3)"
      ],
      "metadata": {
        "colab": {
          "base_uri": "https://localhost:8080/"
        },
        "id": "1BK9wUSOWZuK",
        "outputId": "c7f9c899-85a8-440a-b6cb-89f73bac3a9f"
      },
      "execution_count": null,
      "outputs": [
        {
          "output_type": "execute_result",
          "data": {
            "text/plain": [
              "(array([ 68,  81, 120, 168, 183, 282, 320, 348, 349, 351]),)"
            ]
          },
          "metadata": {},
          "execution_count": 53
        }
      ]
    },
    {
      "cell_type": "code",
      "source": [
        "df0_clean = df0.drop([ 68,  81, 120, 168, 183, 282, 320, 348, 349, 351])"
      ],
      "metadata": {
        "id": "CvaAHv4tbEpw"
      },
      "execution_count": null,
      "outputs": []
    },
    {
      "cell_type": "code",
      "source": [
        "df0_clean.info()"
      ],
      "metadata": {
        "colab": {
          "base_uri": "https://localhost:8080/"
        },
        "id": "kagyyTfMc9_J",
        "outputId": "50ddfe90-ea1e-4189-8ecd-58715b3384fc"
      },
      "execution_count": null,
      "outputs": [
        {
          "output_type": "stream",
          "name": "stdout",
          "text": [
            "<class 'pandas.core.frame.DataFrame'>\n",
            "Int64Index: 366 entries, 0 to 375\n",
            "Data columns (total 9 columns):\n",
            " #   Column                    Non-Null Count  Dtype  \n",
            "---  ------                    --------------  -----  \n",
            " 0   Pregnancies               366 non-null    float64\n",
            " 1   Glucose                   366 non-null    float64\n",
            " 2   BloodPressure             366 non-null    float64\n",
            " 3   SkinThickness             366 non-null    float64\n",
            " 4   Insulin                   366 non-null    float64\n",
            " 5   BMI                       366 non-null    float64\n",
            " 6   DiabetesPedigreeFunction  366 non-null    float64\n",
            " 7   Age                       366 non-null    float64\n",
            " 8   Outcome                   366 non-null    int64  \n",
            "dtypes: float64(8), int64(1)\n",
            "memory usage: 28.6 KB\n"
          ]
        }
      ]
    },
    {
      "cell_type": "code",
      "source": [
        "fig,ax = plt.subplots(figsize=(25,10))\n",
        "sns.boxplot(data=df1,palette='rainbow')"
      ],
      "metadata": {
        "colab": {
          "base_uri": "https://localhost:8080/",
          "height": 556
        },
        "id": "lQ2JdA8TdNjg",
        "outputId": "191e8b88-34f7-4882-de6e-e77d17895d1c"
      },
      "execution_count": null,
      "outputs": [
        {
          "output_type": "execute_result",
          "data": {
            "text/plain": [
              "<matplotlib.axes._subplots.AxesSubplot at 0x7fcd8ec60dd0>"
            ]
          },
          "metadata": {},
          "execution_count": 56
        },
        {
          "output_type": "display_data",
          "data": {
            "text/plain": [
              "<Figure size 1800x720 with 1 Axes>"
            ],
            "image/png": "[encoded data removed]"
          },
          "metadata": {
            "needs_background": "light"
          }
        }
      ]
    },
    {
      "cell_type": "code",
      "source": [
        "sns.boxplot(data=df1.Pregnancies)"
      ],
      "metadata": {
        "colab": {
          "base_uri": "https://localhost:8080/",
          "height": 283
        },
        "id": "pG6mE8nUdc02",
        "outputId": "b4d2a73f-4524-4d6f-94d5-bd858d1dcc61"
      },
      "execution_count": null,
      "outputs": [
        {
          "output_type": "execute_result",
          "data": {
            "text/plain": [
              "<matplotlib.axes._subplots.AxesSubplot at 0x7fcd8b55dd50>"
            ]
          },
          "metadata": {},
          "execution_count": 57
        },
        {
          "output_type": "display_data",
          "data": {
            "text/plain": [
              "<Figure size 432x288 with 1 Axes>"
            ],
            "image/png": "[encoded data removed]"
          },
          "metadata": {
            "needs_background": "light"
          }
        }
      ]
    },
    {
      "cell_type": "code",
      "source": [
        "sns.boxplot(data=df1.Glucose)\n"
      ],
      "metadata": {
        "colab": {
          "base_uri": "https://localhost:8080/",
          "height": 283
        },
        "id": "-27AMy7tdk0H",
        "outputId": "ff3f39cb-827d-4d55-c1bf-d21e977435f1"
      },
      "execution_count": null,
      "outputs": [
        {
          "output_type": "execute_result",
          "data": {
            "text/plain": [
              "<matplotlib.axes._subplots.AxesSubplot at 0x7fcd8b4d9d50>"
            ]
          },
          "metadata": {},
          "execution_count": 58
        },
        {
          "output_type": "display_data",
          "data": {
            "text/plain": [
              "<Figure size 432x288 with 1 Axes>"
            ],
            "image/png": "[encoded data removed]"
          },
          "metadata": {
            "needs_background": "light"
          }
        }
      ]
    },
    {
      "cell_type": "code",
      "source": [
        "sns.boxplot(data=df1.BloodPressure)\n"
      ],
      "metadata": {
        "colab": {
          "base_uri": "https://localhost:8080/",
          "height": 283
        },
        "id": "r7lg33qkdqpm",
        "outputId": "31d07d10-4538-4a8a-d784-5d02fc2bf8d4"
      },
      "execution_count": null,
      "outputs": [
        {
          "output_type": "execute_result",
          "data": {
            "text/plain": [
              "<matplotlib.axes._subplots.AxesSubplot at 0x7fcd8b450b50>"
            ]
          },
          "metadata": {},
          "execution_count": 59
        },
        {
          "output_type": "display_data",
          "data": {
            "text/plain": [
              "<Figure size 432x288 with 1 Axes>"
            ],
            "image/png": "[encoded data removed]"
          },
          "metadata": {
            "needs_background": "light"
          }
        }
      ]
    },
    {
      "cell_type": "code",
      "source": [
        "sns.boxplot(data=df1.SkinThickness)\n"
      ],
      "metadata": {
        "colab": {
          "base_uri": "https://localhost:8080/",
          "height": 283
        },
        "id": "GJk27tTdduJg",
        "outputId": "cddc5943-54a3-4279-e202-5b3c9fa98809"
      },
      "execution_count": null,
      "outputs": [
        {
          "output_type": "execute_result",
          "data": {
            "text/plain": [
              "<matplotlib.axes._subplots.AxesSubplot at 0x7fcd8b42c6d0>"
            ]
          },
          "metadata": {},
          "execution_count": 60
        },
        {
          "output_type": "display_data",
          "data": {
            "text/plain": [
              "<Figure size 432x288 with 1 Axes>"
            ],
            "image/png": "[encoded data removed]"
          },
          "metadata": {
            "needs_background": "light"
          }
        }
      ]
    },
    {
      "cell_type": "code",
      "source": [
        "sns.boxplot(data=df1.Insulin)\n"
      ],
      "metadata": {
        "colab": {
          "base_uri": "https://localhost:8080/",
          "height": 283
        },
        "id": "blnAgNWPdyDc",
        "outputId": "05e8a02b-7ed4-4fa7-e610-f7909f18c14a"
      },
      "execution_count": null,
      "outputs": [
        {
          "output_type": "execute_result",
          "data": {
            "text/plain": [
              "<matplotlib.axes._subplots.AxesSubplot at 0x7fcd8b3a3850>"
            ]
          },
          "metadata": {},
          "execution_count": 61
        },
        {
          "output_type": "display_data",
          "data": {
            "text/plain": [
              "<Figure size 432x288 with 1 Axes>"
            ],
            "image/png": "[encoded data removed]"
          },
          "metadata": {
            "needs_background": "light"
          }
        }
      ]
    },
    {
      "cell_type": "code",
      "source": [
        "sns.boxplot(data=df1.BMI)\n"
      ],
      "metadata": {
        "colab": {
          "base_uri": "https://localhost:8080/",
          "height": 283
        },
        "id": "7vJoT4jNd0h8",
        "outputId": "a797a9b6-f51d-4ad0-b216-c65fab0ab4ee"
      },
      "execution_count": null,
      "outputs": [
        {
          "output_type": "execute_result",
          "data": {
            "text/plain": [
              "<matplotlib.axes._subplots.AxesSubplot at 0x7fcd8b310250>"
            ]
          },
          "metadata": {},
          "execution_count": 62
        },
        {
          "output_type": "display_data",
          "data": {
            "text/plain": [
              "<Figure size 432x288 with 1 Axes>"
            ],
            "image/png": "[encoded data removed]"
          },
          "metadata": {
            "needs_background": "light"
          }
        }
      ]
    },
    {
      "cell_type": "code",
      "source": [
        "sns.boxplot(data=df1.DiabetesPedigreeFunction)\n"
      ],
      "metadata": {
        "colab": {
          "base_uri": "https://localhost:8080/",
          "height": 284
        },
        "id": "ISXnUCB9d2R8",
        "outputId": "2eda4840-b354-4b48-bb67-2035d9a38b27"
      },
      "execution_count": null,
      "outputs": [
        {
          "output_type": "execute_result",
          "data": {
            "text/plain": [
              "<matplotlib.axes._subplots.AxesSubplot at 0x7fcd8b2f0790>"
            ]
          },
          "metadata": {},
          "execution_count": 63
        },
        {
          "output_type": "display_data",
          "data": {
            "text/plain": [
              "<Figure size 432x288 with 1 Axes>"
            ],
            "image/png": "[encoded data removed]"
          },
          "metadata": {
            "needs_background": "light"
          }
        }
      ]
    },
    {
      "cell_type": "code",
      "source": [
        "sns.boxplot(data=df1.Age)\n"
      ],
      "metadata": {
        "colab": {
          "base_uri": "https://localhost:8080/",
          "height": 283
        },
        "id": "wGy8pnemd45c",
        "outputId": "ab21e68b-49fa-410d-ad47-c10e8826f241"
      },
      "execution_count": null,
      "outputs": [
        {
          "output_type": "execute_result",
          "data": {
            "text/plain": [
              "<matplotlib.axes._subplots.AxesSubplot at 0x7fcd8b258550>"
            ]
          },
          "metadata": {},
          "execution_count": 64
        },
        {
          "output_type": "display_data",
          "data": {
            "text/plain": [
              "<Figure size 432x288 with 1 Axes>"
            ],
            "image/png": "[encoded data removed]"
          },
          "metadata": {
            "needs_background": "light"
          }
        }
      ]
    },
    {
      "cell_type": "code",
      "source": [
        "preg1_iqr = df1.Pregnancies.quantile(0.75) - df1.Pregnancies.quantile(0.25)\n",
        "# gluc0_iqr = df0.Glucose.quantile(0.75) - df0.Glucose.quantile(0.25)\n",
        "bp1_iqr = df1.BloodPressure.quantile(0.75) - df1.BloodPressure.quantile(0.25)\n",
        "skin1_iqr = df1.SkinThickness.quantile(0.75) - df1.SkinThickness.quantile(0.25)\n",
        "# insulin0_iqr = df0.Insulin.quantile(0.75) - df0.Insulin.quantile(0.25)\n",
        "bmi1_iqr = df1.BMI.quantile(0.75) - df1.BMI.quantile(0.25)\n",
        "dia1_iqr = df1.DiabetesPedigreeFunction.quantile(0.75) - df1.DiabetesPedigreeFunction.quantile(0.25)\n",
        "# age0_iqr = df0.Age.quantile(0.75) - df0.Age.quantile(0.25)"
      ],
      "metadata": {
        "id": "xsa5mPrUd6y_"
      },
      "execution_count": null,
      "outputs": []
    },
    {
      "cell_type": "code",
      "source": [
        "df1 = df1[(df1.Pregnancies > df1.Pregnancies.quantile(0.25)-1.5*preg1_iqr) & (df1.Pregnancies < df1.Pregnancies.quantile(0.75)+1.5*preg1_iqr)]\n",
        "# df0 = df0[(df0.Glucose > df0.Glucose.quantile(0.25)-1.5*gluc0_iqr) & (df0.Glucose < df0.Glucose.quantile(0.75)+1.5*gluc0_iqr)]\n",
        "df1 = df1[(df1.BloodPressure > df1.BloodPressure.quantile(0.25)-1.5*bp1_iqr) & (df1.BloodPressure < df1.BloodPressure.quantile(0.75)+1.5*bp1_iqr)]\n",
        "df1 = df1[(df1.SkinThickness > df1.SkinThickness.quantile(0.25)-1.5*skin1_iqr) & (df1.SkinThickness < df1.SkinThickness.quantile(0.75)+1.5*skin1_iqr)]\n",
        "# df0 = df0[(df0.Insulin > df0.Insulin.quantile(0.25)-1.5*insulin0_iqr) & (df0.Insulin < df0.Insulin.quantile(0.75)+1.5*insulin0_iqr)]\n",
        "df1 = df1[(df1.BMI > df1.BMI.quantile(0.25)-1.5*bmi1_iqr) & (df1.BMI < df1.BMI.quantile(0.75)+1.5*bmi1_iqr)]\n",
        "df1 = df1[(df1.DiabetesPedigreeFunction > df1.DiabetesPedigreeFunction.quantile(0.25)-1.5*dia1_iqr) & (df1.DiabetesPedigreeFunction < df1.DiabetesPedigreeFunction.quantile(0.75)+1.5*dia1_iqr)]\n",
        "# df0 = df0[(df0.Age > df0.Age.quantile(0.25)-1.5*age0_iqr) & (df0.Age < df0.Age.quantile(0.75)+1.5*age0_iqr)]"
      ],
      "metadata": {
        "id": "eBVcsRHbePuk"
      },
      "execution_count": null,
      "outputs": []
    },
    {
      "cell_type": "code",
      "source": [
        "df1.info()"
      ],
      "metadata": {
        "colab": {
          "base_uri": "https://localhost:8080/"
        },
        "id": "92-d5evvfOqY",
        "outputId": "40824558-f162-4121-8fb2-79823d827a47"
      },
      "execution_count": null,
      "outputs": [
        {
          "output_type": "stream",
          "name": "stdout",
          "text": [
            "<class 'pandas.core.frame.DataFrame'>\n",
            "Int64Index: 200 entries, 0 to 766\n",
            "Data columns (total 9 columns):\n",
            " #   Column                    Non-Null Count  Dtype  \n",
            "---  ------                    --------------  -----  \n",
            " 0   Pregnancies               200 non-null    float64\n",
            " 1   Glucose                   200 non-null    float64\n",
            " 2   BloodPressure             200 non-null    float64\n",
            " 3   SkinThickness             200 non-null    float64\n",
            " 4   Insulin                   200 non-null    float64\n",
            " 5   BMI                       200 non-null    float64\n",
            " 6   DiabetesPedigreeFunction  200 non-null    float64\n",
            " 7   Age                       200 non-null    float64\n",
            " 8   Outcome                   200 non-null    int64  \n",
            "dtypes: float64(8), int64(1)\n",
            "memory usage: 15.6 KB\n"
          ]
        }
      ]
    },
    {
      "cell_type": "code",
      "source": [
        "df1.reset_index(inplace=True)\n",
        "df1 = df1.drop(['index'],axis=1)"
      ],
      "metadata": {
        "id": "jycGMQ6RiwWQ"
      },
      "execution_count": null,
      "outputs": []
    },
    {
      "cell_type": "code",
      "source": [
        "z1 = np.abs(stats.zscore(df1.Insulin))\n",
        "z1"
      ],
      "metadata": {
        "colab": {
          "base_uri": "https://localhost:8080/"
        },
        "id": "_dzPgu_pfRsQ",
        "outputId": "b8fb7fe2-f8d7-4851-b546-f93399e960a5"
      },
      "execution_count": null,
      "outputs": [
        {
          "output_type": "execute_result",
          "data": {
            "text/plain": [
              "array([0.17968484, 0.17968484, 0.17968484, 0.17968484, 7.55300663,\n",
              "       0.17968484, 0.17968484, 1.03887278, 0.17968484, 0.17968484,\n",
              "       0.46608082, 0.82121183, 0.17968484, 0.66804726, 0.17968484,\n",
              "       0.17968484, 0.17968484, 1.29811842, 0.17968484, 0.17968484,\n",
              "       0.17968484, 0.17968484, 0.17968484, 0.17968484, 0.17968484,\n",
              "       0.17968484, 1.72622313, 0.59209505, 3.53200707, 0.13386148,\n",
              "       0.17968484, 0.17968484, 0.17968484, 0.47753666, 0.17968484,\n",
              "       0.17968484, 0.43893048, 0.17968484, 0.36297827, 0.17968484,\n",
              "       0.17968484, 0.17968484, 0.17968484, 0.64937425, 0.17968484,\n",
              "       0.17968484, 3.53200707, 1.47419467, 0.83266767, 0.30569907,\n",
              "       0.17968484, 0.26709289, 1.50432353, 1.06900164, 0.17968484,\n",
              "       0.64937425, 0.13386148, 0.96589908, 0.66083008, 0.17968484,\n",
              "       3.3372578 , 0.17968484, 0.17968484, 0.17968484, 2.10002716,\n",
              "       0.17968484, 0.17968484, 0.17968484, 0.17968484, 0.42025746,\n",
              "       0.17968484, 0.17968484, 0.17968484, 0.17968484, 0.17968484,\n",
              "       0.17968484, 0.17968484, 0.17968484, 0.17968484, 0.38165128,\n",
              "       1.29090124, 0.05367061, 1.98546877, 0.03075893, 0.17968484,\n",
              "       0.59209505, 0.62646257, 0.2098137 , 0.17968484, 0.17968484,\n",
              "       0.17968484, 0.17968484, 1.80641401, 0.35152243, 0.76393264,\n",
              "       0.17968484, 0.17968484, 0.17968484, 0.17968484, 0.17968484,\n",
              "       0.17968484, 0.17968484, 0.71387062, 1.5845144 , 0.17968484,\n",
              "       0.17968484, 0.17968484, 0.17968484, 1.12628083, 0.17968484,\n",
              "       0.17968484, 0.17968484, 0.17968484, 0.17968484, 1.13051949,\n",
              "       0.17968484, 0.17968484, 0.17968484, 0.22550819, 3.29143444,\n",
              "       0.17968484, 0.82121183, 0.26709289, 1.03463412, 0.07658229,\n",
              "       0.07658229, 0.17968484, 0.17968484, 0.17968484, 1.40545963,\n",
              "       0.17968484, 0.17968484, 0.17968484, 1.61888192, 0.17968484,\n",
              "       0.72532646, 0.47753666, 0.17968484, 1.10760781, 0.17968484,\n",
              "       0.24841987, 0.17968484, 0.17968484, 0.32437209, 0.03797611,\n",
              "       0.17968484, 0.43893048, 0.23272537, 0.17968484, 1.0002666 ,\n",
              "       0.17968484, 0.17968484, 4.73487018, 0.17968484, 0.35152243,\n",
              "       0.17968484, 0.17968484, 0.17968484, 0.6951976 , 0.17968484,\n",
              "       1.21792755, 1.53869104, 0.4889925 , 0.17968484, 0.17968484,\n",
              "       0.17968484, 0.17968484, 1.09615197, 0.17968484, 0.64937425,\n",
              "       1.3367246 , 0.17968484, 0.17968484, 0.17968484, 0.17968484,\n",
              "       0.17968484, 3.36016948, 0.17968484, 0.17968484, 0.17968484,\n",
              "       0.17968484, 0.30569907, 0.17968484, 0.01930309, 0.17968484,\n",
              "       0.68374176, 1.23362205, 0.17968484, 0.17968484, 0.17968484,\n",
              "       0.42025746, 0.17968484, 0.17968484, 0.17968484, 0.17968484,\n",
              "       0.87849103, 0.17968484, 0.17968484, 0.17968484, 0.17968484])"
            ]
          },
          "metadata": {},
          "execution_count": 69
        }
      ]
    },
    {
      "cell_type": "code",
      "source": [
        "np.where(z1>3)"
      ],
      "metadata": {
        "colab": {
          "base_uri": "https://localhost:8080/"
        },
        "id": "g8Nr2Kx5fnJg",
        "outputId": "af0f6449-eeaa-45d0-82c3-4963859e3b5e"
      },
      "execution_count": null,
      "outputs": [
        {
          "output_type": "execute_result",
          "data": {
            "text/plain": [
              "(array([  4,  28,  46,  60, 119, 152, 176]),)"
            ]
          },
          "metadata": {},
          "execution_count": 70
        }
      ]
    },
    {
      "cell_type": "code",
      "source": [
        "np.where(df1.Insulin > 600)"
      ],
      "metadata": {
        "colab": {
          "base_uri": "https://localhost:8080/"
        },
        "id": "rkSmINRxfpax",
        "outputId": "31ed102c-c014-465c-ccae-208b5131e075"
      },
      "execution_count": null,
      "outputs": [
        {
          "output_type": "execute_result",
          "data": {
            "text/plain": [
              "(array([4]),)"
            ]
          },
          "metadata": {},
          "execution_count": 71
        }
      ]
    },
    {
      "cell_type": "code",
      "source": [
        "df1_clean = df1.drop([  4,  28,  46,  60, 119, 152, 176])\n"
      ],
      "metadata": {
        "id": "hm9A3waYfzN4"
      },
      "execution_count": null,
      "outputs": []
    },
    {
      "cell_type": "code",
      "source": [
        "df1_clean.info()"
      ],
      "metadata": {
        "colab": {
          "base_uri": "https://localhost:8080/"
        },
        "id": "PH_GYr1Xf8sn",
        "outputId": "1a4dd307-d087-45e5-f0c3-1f0a5035b563"
      },
      "execution_count": null,
      "outputs": [
        {
          "output_type": "stream",
          "name": "stdout",
          "text": [
            "<class 'pandas.core.frame.DataFrame'>\n",
            "Int64Index: 193 entries, 0 to 199\n",
            "Data columns (total 9 columns):\n",
            " #   Column                    Non-Null Count  Dtype  \n",
            "---  ------                    --------------  -----  \n",
            " 0   Pregnancies               193 non-null    float64\n",
            " 1   Glucose                   193 non-null    float64\n",
            " 2   BloodPressure             193 non-null    float64\n",
            " 3   SkinThickness             193 non-null    float64\n",
            " 4   Insulin                   193 non-null    float64\n",
            " 5   BMI                       193 non-null    float64\n",
            " 6   DiabetesPedigreeFunction  193 non-null    float64\n",
            " 7   Age                       193 non-null    float64\n",
            " 8   Outcome                   193 non-null    int64  \n",
            "dtypes: float64(8), int64(1)\n",
            "memory usage: 15.1 KB\n"
          ]
        }
      ]
    },
    {
      "cell_type": "code",
      "source": [
        "####################################################################################################################################################\n"
      ],
      "metadata": {
        "id": "YURxSA4wjMma"
      },
      "execution_count": null,
      "outputs": []
    },
    {
      "cell_type": "code",
      "source": [
        "####################################################################################################################################################\n"
      ],
      "metadata": {
        "id": "Hp9ggD7Gje4y"
      },
      "execution_count": null,
      "outputs": []
    },
    {
      "cell_type": "code",
      "source": [
        "####################################################################################################################################################\n"
      ],
      "metadata": {
        "id": "Qp11csfdjew-"
      },
      "execution_count": null,
      "outputs": []
    },
    {
      "cell_type": "markdown",
      "source": [
        "### Cleaned Dataframe is constructed "
      ],
      "metadata": {
        "id": "bjJEuuRRHecK"
      }
    },
    {
      "cell_type": "code",
      "source": [
        "df_clean = pd.concat([df0_clean,df1_clean],axis=0)\n",
        "df_clean.reset_index(inplace=True)\n",
        "df_clean = df_clean.drop(['index'],axis=1)\n",
        "df_clean"
      ],
      "metadata": {
        "colab": {
          "base_uri": "https://localhost:8080/",
          "height": 423
        },
        "id": "ZFtX9HaQjetV",
        "outputId": "acfe580e-2850-41c1-f4fb-e7fc15b03dba"
      },
      "execution_count": null,
      "outputs": [
        {
          "output_type": "execute_result",
          "data": {
            "text/plain": [
              "     Pregnancies  Glucose  BloodPressure  SkinThickness  Insulin   BMI  \\\n",
              "0            1.0     85.0           66.0           29.0    105.0  26.6   \n",
              "1            1.0     89.0           66.0           23.0     94.0  28.1   \n",
              "2            5.0    116.0           74.0           27.0    105.0  25.6   \n",
              "3            2.0    107.0           70.0           27.0    105.0  35.3   \n",
              "4            4.0    110.0           92.0           27.0    105.0  37.6   \n",
              "..           ...      ...            ...            ...      ...   ...   \n",
              "554          1.0    128.0           88.0           39.0    110.0  36.5   \n",
              "555          0.0    123.0           72.0           32.0    171.0  36.3   \n",
              "556          4.0    190.0           92.0           32.0    171.0  35.5   \n",
              "557          9.0    170.0           74.0           31.0    171.0  44.0   \n",
              "558          1.0    126.0           60.0           32.0    171.0  30.1   \n",
              "\n",
              "     DiabetesPedigreeFunction   Age  Outcome  \n",
              "0                    0.351000  31.0        0  \n",
              "1                    0.167000  21.0        0  \n",
              "2                    0.201000  30.0        0  \n",
              "3                    0.134000  29.0        0  \n",
              "4                    0.191000  30.0        0  \n",
              "..                        ...   ...      ...  \n",
              "554                  0.551559  37.0        1  \n",
              "555                  0.258000  52.0        1  \n",
              "556                  0.278000  66.0        1  \n",
              "557                  0.403000  43.0        1  \n",
              "558                  0.349000  47.0        1  \n",
              "\n",
              "[559 rows x 9 columns]"
            ],
            "text/html": [
              "\n",
              "  <div id=\"df-d7a31981-0a59-437b-86ff-eba57b0d3062\">\n",
              "    <div class=\"colab-df-container\">\n",
              "      <div>\n",
              "<style scoped>\n",
              "    .dataframe tbody tr th:only-of-type {\n",
              "        vertical-align: middle;\n",
              "    }\n",
              "\n",
              "    .dataframe tbody tr th {\n",
              "        vertical-align: top;\n",
              "    }\n",
              "\n",
              "    .dataframe thead th {\n",
              "        text-align: right;\n",
              "    }\n",
              "</style>\n",
              "<table border=\"1\" class=\"dataframe\">\n",
              "  <thead>\n",
              "    <tr style=\"text-align: right;\">\n",
              "      <th></th>\n",
              "      <th>Pregnancies</th>\n",
              "      <th>Glucose</th>\n",
              "      <th>BloodPressure</th>\n",
              "      <th>SkinThickness</th>\n",
              "      <th>Insulin</th>\n",
              "      <th>BMI</th>\n",
              "      <th>DiabetesPedigreeFunction</th>\n",
              "      <th>Age</th>\n",
              "      <th>Outcome</th>\n",
              "    </tr>\n",
              "  </thead>\n",
              "  <tbody>\n",
              "    <tr>\n",
              "      <th>0</th>\n",
              "      <td>1.0</td>\n",
              "      <td>85.0</td>\n",
              "      <td>66.0</td>\n",
              "      <td>29.0</td>\n",
              "      <td>105.0</td>\n",
              "      <td>26.6</td>\n",
              "      <td>0.351000</td>\n",
              "      <td>31.0</td>\n",
              "      <td>0</td>\n",
              "    </tr>\n",
              "    <tr>\n",
              "      <th>1</th>\n",
              "      <td>1.0</td>\n",
              "      <td>89.0</td>\n",
              "      <td>66.0</td>\n",
              "      <td>23.0</td>\n",
              "      <td>94.0</td>\n",
              "      <td>28.1</td>\n",
              "      <td>0.167000</td>\n",
              "      <td>21.0</td>\n",
              "      <td>0</td>\n",
              "    </tr>\n",
              "    <tr>\n",
              "      <th>2</th>\n",
              "      <td>5.0</td>\n",
              "      <td>116.0</td>\n",
              "      <td>74.0</td>\n",
              "      <td>27.0</td>\n",
              "      <td>105.0</td>\n",
              "      <td>25.6</td>\n",
              "      <td>0.201000</td>\n",
              "      <td>30.0</td>\n",
              "      <td>0</td>\n",
              "    </tr>\n",
              "    <tr>\n",
              "      <th>3</th>\n",
              "      <td>2.0</td>\n",
              "      <td>107.0</td>\n",
              "      <td>70.0</td>\n",
              "      <td>27.0</td>\n",
              "      <td>105.0</td>\n",
              "      <td>35.3</td>\n",
              "      <td>0.134000</td>\n",
              "      <td>29.0</td>\n",
              "      <td>0</td>\n",
              "    </tr>\n",
              "    <tr>\n",
              "      <th>4</th>\n",
              "      <td>4.0</td>\n",
              "      <td>110.0</td>\n",
              "      <td>92.0</td>\n",
              "      <td>27.0</td>\n",
              "      <td>105.0</td>\n",
              "      <td>37.6</td>\n",
              "      <td>0.191000</td>\n",
              "      <td>30.0</td>\n",
              "      <td>0</td>\n",
              "    </tr>\n",
              "    <tr>\n",
              "      <th>...</th>\n",
              "      <td>...</td>\n",
              "      <td>...</td>\n",
              "      <td>...</td>\n",
              "      <td>...</td>\n",
              "      <td>...</td>\n",
              "      <td>...</td>\n",
              "      <td>...</td>\n",
              "      <td>...</td>\n",
              "      <td>...</td>\n",
              "    </tr>\n",
              "    <tr>\n",
              "      <th>554</th>\n",
              "      <td>1.0</td>\n",
              "      <td>128.0</td>\n",
              "      <td>88.0</td>\n",
              "      <td>39.0</td>\n",
              "      <td>110.0</td>\n",
              "      <td>36.5</td>\n",
              "      <td>0.551559</td>\n",
              "      <td>37.0</td>\n",
              "      <td>1</td>\n",
              "    </tr>\n",
              "    <tr>\n",
              "      <th>555</th>\n",
              "      <td>0.0</td>\n",
              "      <td>123.0</td>\n",
              "      <td>72.0</td>\n",
              "      <td>32.0</td>\n",
              "      <td>171.0</td>\n",
              "      <td>36.3</td>\n",
              "      <td>0.258000</td>\n",
              "      <td>52.0</td>\n",
              "      <td>1</td>\n",
              "    </tr>\n",
              "    <tr>\n",
              "      <th>556</th>\n",
              "      <td>4.0</td>\n",
              "      <td>190.0</td>\n",
              "      <td>92.0</td>\n",
              "      <td>32.0</td>\n",
              "      <td>171.0</td>\n",
              "      <td>35.5</td>\n",
              "      <td>0.278000</td>\n",
              "      <td>66.0</td>\n",
              "      <td>1</td>\n",
              "    </tr>\n",
              "    <tr>\n",
              "      <th>557</th>\n",
              "      <td>9.0</td>\n",
              "      <td>170.0</td>\n",
              "      <td>74.0</td>\n",
              "      <td>31.0</td>\n",
              "      <td>171.0</td>\n",
              "      <td>44.0</td>\n",
              "      <td>0.403000</td>\n",
              "      <td>43.0</td>\n",
              "      <td>1</td>\n",
              "    </tr>\n",
              "    <tr>\n",
              "      <th>558</th>\n",
              "      <td>1.0</td>\n",
              "      <td>126.0</td>\n",
              "      <td>60.0</td>\n",
              "      <td>32.0</td>\n",
              "      <td>171.0</td>\n",
              "      <td>30.1</td>\n",
              "      <td>0.349000</td>\n",
              "      <td>47.0</td>\n",
              "      <td>1</td>\n",
              "    </tr>\n",
              "  </tbody>\n",
              "</table>\n",
              "<p>559 rows × 9 columns</p>\n",
              "</div>\n",
              "      <button class=\"colab-df-convert\" onclick=\"convertToInteractive('df-d7a31981-0a59-437b-86ff-eba57b0d3062')\"\n",
              "              title=\"Convert this dataframe to an interactive table.\"\n",
              "              style=\"display:none;\">\n",
              "        \n",
              "  <svg xmlns=\"http://www.w3.org/2000/svg\" height=\"24px\"viewBox=\"0 0 24 24\"\n",
              "       width=\"24px\">\n",
              "    <path d=\"M0 0h24v24H0V0z\" fill=\"none\"/>\n",
              "    <path d=\"M18.56 5.44l.94 2.06.94-2.06 2.06-.94-2.06-.94-.94-2.06-.94 2.06-2.06.94zm-11 1L8.5 8.5l.94-2.06 2.06-.94-2.06-.94L8.5 2.5l-.94 2.06-2.06.94zm10 10l.94 2.06.94-2.06 2.06-.94-2.06-.94-.94-2.06-.94 2.06-2.06.94z\"/><path d=\"M17.41 7.96l-1.37-1.37c-.4-.4-.92-.59-1.43-.59-.52 0-1.04.2-1.43.59L10.3 9.45l-7.72 7.72c-.78.78-.78 2.05 0 2.83L4 21.41c.39.39.9.59 1.41.59.51 0 1.02-.2 1.41-.59l7.78-7.78 2.81-2.81c.8-.78.8-2.07 0-2.86zM5.41 20L4 18.59l7.72-7.72 1.47 1.35L5.41 20z\"/>\n",
              "  </svg>\n",
              "      </button>\n",
              "      \n",
              "  <style>\n",
              "    .colab-df-container {\n",
              "      display:flex;\n",
              "      flex-wrap:wrap;\n",
              "      gap: 12px;\n",
              "    }\n",
              "\n",
              "    .colab-df-convert {\n",
              "      background-color: #E8F0FE;\n",
              "      border: none;\n",
              "      border-radius: 50%;\n",
              "      cursor: pointer;\n",
              "      display: none;\n",
              "      fill: #1967D2;\n",
              "      height: 32px;\n",
              "      padding: 0 0 0 0;\n",
              "      width: 32px;\n",
              "    }\n",
              "\n",
              "    .colab-df-convert:hover {\n",
              "      background-color: #E2EBFA;\n",
              "      box-shadow: 0px 1px 2px rgba(60, 64, 67, 0.3), 0px 1px 3px 1px rgba(60, 64, 67, 0.15);\n",
              "      fill: #174EA6;\n",
              "    }\n",
              "\n",
              "    [theme=dark] .colab-df-convert {\n",
              "      background-color: #3B4455;\n",
              "      fill: #D2E3FC;\n",
              "    }\n",
              "\n",
              "    [theme=dark] .colab-df-convert:hover {\n",
              "      background-color: #434B5C;\n",
              "      box-shadow: 0px 1px 3px 1px rgba(0, 0, 0, 0.15);\n",
              "      filter: drop-shadow(0px 1px 2px rgba(0, 0, 0, 0.3));\n",
              "      fill: #FFFFFF;\n",
              "    }\n",
              "  </style>\n",
              "\n",
              "      <script>\n",
              "        const buttonEl =\n",
              "          document.querySelector('#df-d7a31981-0a59-437b-86ff-eba57b0d3062 button.colab-df-convert');\n",
              "        buttonEl.style.display =\n",
              "          google.colab.kernel.accessAllowed ? 'block' : 'none';\n",
              "\n",
              "        async function convertToInteractive(key) {\n",
              "          const element = document.querySelector('#df-d7a31981-0a59-437b-86ff-eba57b0d3062');\n",
              "          const dataTable =\n",
              "            await google.colab.kernel.invokeFunction('convertToInteractive',\n",
              "                                                     [key], {});\n",
              "          if (!dataTable) return;\n",
              "\n",
              "          const docLinkHtml = 'Like what you see? Visit the ' +\n",
              "            '<a target=\"_blank\" href=https://colab.research.google.com/notebooks/data_table.ipynb>data table notebook</a>'\n",
              "            + ' to learn more about interactive tables.';\n",
              "          element.innerHTML = '';\n",
              "          dataTable['output_type'] = 'display_data';\n",
              "          await google.colab.output.renderOutput(dataTable, element);\n",
              "          const docLink = document.createElement('div');\n",
              "          docLink.innerHTML = docLinkHtml;\n",
              "          element.appendChild(docLink);\n",
              "        }\n",
              "      </script>\n",
              "    </div>\n",
              "  </div>\n",
              "  "
            ]
          },
          "metadata": {},
          "execution_count": 77
        }
      ]
    },
    {
      "cell_type": "code",
      "source": [
        "df_clean.Outcome.value_counts().plot.pie(autopct='%.2f')\n"
      ],
      "metadata": {
        "colab": {
          "base_uri": "https://localhost:8080/",
          "height": 266
        },
        "id": "1ExAtnUkknRt",
        "outputId": "d89efa3c-540c-4d08-9371-5b52c790d97c"
      },
      "execution_count": null,
      "outputs": [
        {
          "output_type": "execute_result",
          "data": {
            "text/plain": [
              "<matplotlib.axes._subplots.AxesSubplot at 0x7fcd8b1b5910>"
            ]
          },
          "metadata": {},
          "execution_count": 78
        },
        {
          "output_type": "display_data",
          "data": {
            "text/plain": [
              "<Figure size 432x288 with 1 Axes>"
            ],
            "image/png": "[encoded data removed]"
          },
          "metadata": {}
        }
      ]
    },
    {
      "cell_type": "markdown",
      "source": [
        "### From the above graph we can see the dataframe we have is imbalanced"
      ],
      "metadata": {
        "id": "eZXdOC5_HsA3"
      }
    },
    {
      "cell_type": "code",
      "source": [
        "from sklearn.preprocessing import StandardScaler\n",
        "ss = StandardScaler()"
      ],
      "metadata": {
        "id": "Ka9w8lO-k0k6"
      },
      "execution_count": null,
      "outputs": []
    },
    {
      "cell_type": "code",
      "source": [
        "X = df_clean.iloc[:,0:8].values\n",
        "X"
      ],
      "metadata": {
        "colab": {
          "base_uri": "https://localhost:8080/"
        },
        "id": "Am7cPqHHmX_K",
        "outputId": "823fc2bd-8dec-4a06-a33f-6cd84c6d0b64"
      },
      "execution_count": null,
      "outputs": [
        {
          "output_type": "execute_result",
          "data": {
            "text/plain": [
              "array([[1.00e+00, 8.50e+01, 6.60e+01, ..., 2.66e+01, 3.51e-01, 3.10e+01],\n",
              "       [1.00e+00, 8.90e+01, 6.60e+01, ..., 2.81e+01, 1.67e-01, 2.10e+01],\n",
              "       [5.00e+00, 1.16e+02, 7.40e+01, ..., 2.56e+01, 2.01e-01, 3.00e+01],\n",
              "       ...,\n",
              "       [4.00e+00, 1.90e+02, 9.20e+01, ..., 3.55e+01, 2.78e-01, 6.60e+01],\n",
              "       [9.00e+00, 1.70e+02, 7.40e+01, ..., 4.40e+01, 4.03e-01, 4.30e+01],\n",
              "       [1.00e+00, 1.26e+02, 6.00e+01, ..., 3.01e+01, 3.49e-01, 4.70e+01]])"
            ]
          },
          "metadata": {},
          "execution_count": 80
        }
      ]
    },
    {
      "cell_type": "code",
      "source": [
        "x = ss.fit_transform(X)\n",
        "x"
      ],
      "metadata": {
        "colab": {
          "base_uri": "https://localhost:8080/"
        },
        "id": "3xyzeXgZmfli",
        "outputId": "8d1049ce-e737-4020-de59-8693c66e45ec"
      },
      "execution_count": null,
      "outputs": [
        {
          "output_type": "execute_result",
          "data": {
            "text/plain": [
              "array([[-0.86337958, -1.15845055, -0.56882328, ..., -0.86216458,\n",
              "        -0.29895474, -0.04953662],\n",
              "       [-0.86337958, -1.01790278, -0.56882328, ..., -0.60797798,\n",
              "        -1.04663759, -1.09843692],\n",
              "       [ 0.45798712, -0.06920532,  0.24362568, ..., -1.03162232,\n",
              "        -0.9084788 , -0.15442665],\n",
              "       ...,\n",
              "       [ 0.12764544,  2.53092846,  2.07163586, ...,  0.64600926,\n",
              "        -0.59558978,  3.62161445],\n",
              "       [ 1.77935381,  1.8281896 ,  0.24362568, ...,  2.08640001,\n",
              "        -0.08765307,  1.20914375],\n",
              "       [-0.86337958,  0.28216411, -1.17816   , ..., -0.26906251,\n",
              "        -0.30708173,  1.62870387]])"
            ]
          },
          "metadata": {},
          "execution_count": 81
        }
      ]
    },
    {
      "cell_type": "code",
      "source": [
        "y = df_clean.iloc[:,8].values\n",
        "y"
      ],
      "metadata": {
        "colab": {
          "base_uri": "https://localhost:8080/"
        },
        "id": "ROK9sEMBmsd9",
        "outputId": "3740488e-6121-4085-f9bc-9fd96a30d232"
      },
      "execution_count": null,
      "outputs": [
        {
          "output_type": "execute_result",
          "data": {
            "text/plain": [
              "array([0, 0, 0, 0, 0, 0, 0, 0, 0, 0, 0, 0, 0, 0, 0, 0, 0, 0, 0, 0, 0, 0,\n",
              "       0, 0, 0, 0, 0, 0, 0, 0, 0, 0, 0, 0, 0, 0, 0, 0, 0, 0, 0, 0, 0, 0,\n",
              "       0, 0, 0, 0, 0, 0, 0, 0, 0, 0, 0, 0, 0, 0, 0, 0, 0, 0, 0, 0, 0, 0,\n",
              "       0, 0, 0, 0, 0, 0, 0, 0, 0, 0, 0, 0, 0, 0, 0, 0, 0, 0, 0, 0, 0, 0,\n",
              "       0, 0, 0, 0, 0, 0, 0, 0, 0, 0, 0, 0, 0, 0, 0, 0, 0, 0, 0, 0, 0, 0,\n",
              "       0, 0, 0, 0, 0, 0, 0, 0, 0, 0, 0, 0, 0, 0, 0, 0, 0, 0, 0, 0, 0, 0,\n",
              "       0, 0, 0, 0, 0, 0, 0, 0, 0, 0, 0, 0, 0, 0, 0, 0, 0, 0, 0, 0, 0, 0,\n",
              "       0, 0, 0, 0, 0, 0, 0, 0, 0, 0, 0, 0, 0, 0, 0, 0, 0, 0, 0, 0, 0, 0,\n",
              "       0, 0, 0, 0, 0, 0, 0, 0, 0, 0, 0, 0, 0, 0, 0, 0, 0, 0, 0, 0, 0, 0,\n",
              "       0, 0, 0, 0, 0, 0, 0, 0, 0, 0, 0, 0, 0, 0, 0, 0, 0, 0, 0, 0, 0, 0,\n",
              "       0, 0, 0, 0, 0, 0, 0, 0, 0, 0, 0, 0, 0, 0, 0, 0, 0, 0, 0, 0, 0, 0,\n",
              "       0, 0, 0, 0, 0, 0, 0, 0, 0, 0, 0, 0, 0, 0, 0, 0, 0, 0, 0, 0, 0, 0,\n",
              "       0, 0, 0, 0, 0, 0, 0, 0, 0, 0, 0, 0, 0, 0, 0, 0, 0, 0, 0, 0, 0, 0,\n",
              "       0, 0, 0, 0, 0, 0, 0, 0, 0, 0, 0, 0, 0, 0, 0, 0, 0, 0, 0, 0, 0, 0,\n",
              "       0, 0, 0, 0, 0, 0, 0, 0, 0, 0, 0, 0, 0, 0, 0, 0, 0, 0, 0, 0, 0, 0,\n",
              "       0, 0, 0, 0, 0, 0, 0, 0, 0, 0, 0, 0, 0, 0, 0, 0, 0, 0, 0, 0, 0, 0,\n",
              "       0, 0, 0, 0, 0, 0, 0, 0, 0, 0, 0, 0, 0, 0, 1, 1, 1, 1, 1, 1, 1, 1,\n",
              "       1, 1, 1, 1, 1, 1, 1, 1, 1, 1, 1, 1, 1, 1, 1, 1, 1, 1, 1, 1, 1, 1,\n",
              "       1, 1, 1, 1, 1, 1, 1, 1, 1, 1, 1, 1, 1, 1, 1, 1, 1, 1, 1, 1, 1, 1,\n",
              "       1, 1, 1, 1, 1, 1, 1, 1, 1, 1, 1, 1, 1, 1, 1, 1, 1, 1, 1, 1, 1, 1,\n",
              "       1, 1, 1, 1, 1, 1, 1, 1, 1, 1, 1, 1, 1, 1, 1, 1, 1, 1, 1, 1, 1, 1,\n",
              "       1, 1, 1, 1, 1, 1, 1, 1, 1, 1, 1, 1, 1, 1, 1, 1, 1, 1, 1, 1, 1, 1,\n",
              "       1, 1, 1, 1, 1, 1, 1, 1, 1, 1, 1, 1, 1, 1, 1, 1, 1, 1, 1, 1, 1, 1,\n",
              "       1, 1, 1, 1, 1, 1, 1, 1, 1, 1, 1, 1, 1, 1, 1, 1, 1, 1, 1, 1, 1, 1,\n",
              "       1, 1, 1, 1, 1, 1, 1, 1, 1, 1, 1, 1, 1, 1, 1, 1, 1, 1, 1, 1, 1, 1,\n",
              "       1, 1, 1, 1, 1, 1, 1, 1, 1])"
            ]
          },
          "metadata": {},
          "execution_count": 82
        }
      ]
    },
    {
      "cell_type": "markdown",
      "source": [
        "### Inorder to handle the imbalance we are using random over sampling "
      ],
      "metadata": {
        "id": "Ud-EngwQH00-"
      }
    },
    {
      "cell_type": "code",
      "source": [
        "from imblearn.over_sampling import RandomOverSampler\n",
        "\n",
        "\n",
        "ros = RandomOverSampler(sampling_strategy=0.95,random_state=50)"
      ],
      "metadata": {
        "id": "lWnd_BeDmycl"
      },
      "execution_count": null,
      "outputs": []
    },
    {
      "cell_type": "code",
      "source": [
        "x_ros,y_ros = ros.fit_resample(x,y)"
      ],
      "metadata": {
        "id": "0ltJlJlenVGD"
      },
      "execution_count": null,
      "outputs": []
    },
    {
      "cell_type": "code",
      "source": [
        "from sklearn.metrics import plot_confusion_matrix,precision_score,recall_score,accuracy_score,f1_score,roc_auc_score\n"
      ],
      "metadata": {
        "id": "ozYNNPPVn31K"
      },
      "execution_count": null,
      "outputs": []
    },
    {
      "cell_type": "code",
      "source": [
        "from sklearn.model_selection import train_test_split\n",
        "\n",
        "x_train_ros,x_test_ros,y_train_ros,y_test_ros=train_test_split(x_ros,y_ros,test_size=0.2,random_state=10)\n"
      ],
      "metadata": {
        "id": "-LIrdtzIngyq"
      },
      "execution_count": null,
      "outputs": []
    },
    {
      "cell_type": "code",
      "source": [
        "from sklearn.ensemble import RandomForestClassifier"
      ],
      "metadata": {
        "id": "IT1TqvmdoRyS"
      },
      "execution_count": null,
      "outputs": []
    },
    {
      "cell_type": "code",
      "source": [
        "rfc_ros = RandomForestClassifier(n_estimators=100)"
      ],
      "metadata": {
        "id": "HITTr4_bohzL"
      },
      "execution_count": null,
      "outputs": []
    },
    {
      "cell_type": "code",
      "source": [
        "rfc_ros.fit(x_train_ros,y_train_ros)"
      ],
      "metadata": {
        "colab": {
          "base_uri": "https://localhost:8080/"
        },
        "id": "2C9zbZKqonBj",
        "outputId": "684782b9-fdc2-43d1-a8b0-1a43e0c7f882"
      },
      "execution_count": null,
      "outputs": [
        {
          "output_type": "execute_result",
          "data": {
            "text/plain": [
              "RandomForestClassifier()"
            ]
          },
          "metadata": {},
          "execution_count": 89
        }
      ]
    },
    {
      "cell_type": "code",
      "source": [
        "y_pred_ros = rfc_ros.predict(x_test_ros)"
      ],
      "metadata": {
        "id": "Y8IbTAQcozGK"
      },
      "execution_count": null,
      "outputs": []
    },
    {
      "cell_type": "code",
      "source": [
        "sns.set_context('poster')\n",
        "disp = plot_confusion_matrix(rfc_ros,x_test_ros,y_test_ros,cmap = 'cividis',colorbar=False)"
      ],
      "metadata": {
        "colab": {
          "base_uri": "https://localhost:8080/",
          "height": 368
        },
        "id": "tYOjXi7mpBIY",
        "outputId": "027f6e44-ff76-488e-b7d2-f76ecc190455"
      },
      "execution_count": null,
      "outputs": [
        {
          "output_type": "stream",
          "name": "stderr",
          "text": [
            "/usr/local/lib/python3.7/dist-packages/sklearn/utils/deprecation.py:87: FutureWarning: Function plot_confusion_matrix is deprecated; Function `plot_confusion_matrix` is deprecated in 1.0 and will be removed in 1.2. Use one of the class methods: ConfusionMatrixDisplay.from_predictions or ConfusionMatrixDisplay.from_estimator.\n",
            "  warnings.warn(msg, category=FutureWarning)\n"
          ]
        },
        {
          "output_type": "display_data",
          "data": {
            "text/plain": [
              "<Figure size 432x288 with 1 Axes>"
            ],
            "image/png": "[encoded data removed]"
          },
          "metadata": {
            "needs_background": "light"
          }
        }
      ]
    },
    {
      "cell_type": "code",
      "source": [
        "print(accuracy_score(y_pred_ros,y_test_ros))\n",
        "\n"
      ],
      "metadata": {
        "colab": {
          "base_uri": "https://localhost:8080/"
        },
        "id": "O5325amap6pS",
        "outputId": "bdda9edc-ad7e-40a0-b20c-a6411d60dd58"
      },
      "execution_count": null,
      "outputs": [
        {
          "output_type": "stream",
          "name": "stdout",
          "text": [
            "0.972027972027972\n"
          ]
        }
      ]
    },
    {
      "cell_type": "code",
      "source": [
        "print(precision_score(y_pred_ros,y_test_ros))\n"
      ],
      "metadata": {
        "colab": {
          "base_uri": "https://localhost:8080/"
        },
        "id": "PMXAjIf6p_ox",
        "outputId": "d8201d15-0169-490c-c313-bb06e1d2c748"
      },
      "execution_count": null,
      "outputs": [
        {
          "output_type": "stream",
          "name": "stdout",
          "text": [
            "0.9848484848484849\n"
          ]
        }
      ]
    },
    {
      "cell_type": "code",
      "source": [
        "print(recall_score(y_pred_ros,y_test_ros))\n"
      ],
      "metadata": {
        "colab": {
          "base_uri": "https://localhost:8080/"
        },
        "id": "djUBiV0nqQyb",
        "outputId": "0bd4bc54-12ac-4cd4-9292-0a78dbf9ae77"
      },
      "execution_count": null,
      "outputs": [
        {
          "output_type": "stream",
          "name": "stdout",
          "text": [
            "0.9558823529411765\n"
          ]
        }
      ]
    },
    {
      "cell_type": "code",
      "source": [
        "print(roc_auc_score(y_pred_ros,y_test_ros))\n"
      ],
      "metadata": {
        "colab": {
          "base_uri": "https://localhost:8080/"
        },
        "id": "k4oAJJPeugvu",
        "outputId": "78c85802-4250-4b23-969d-adbccaf1f8bd"
      },
      "execution_count": null,
      "outputs": [
        {
          "output_type": "stream",
          "name": "stdout",
          "text": [
            "0.9712745098039216\n"
          ]
        }
      ]
    },
    {
      "cell_type": "code",
      "source": [
        "print(f1_score(y_pred_ros,y_test_ros))\n"
      ],
      "metadata": {
        "colab": {
          "base_uri": "https://localhost:8080/"
        },
        "id": "CwRIoP8Ougl7",
        "outputId": "3dc8e50a-8608-46ec-b141-5565caa2db22"
      },
      "execution_count": null,
      "outputs": [
        {
          "output_type": "stream",
          "name": "stdout",
          "text": [
            "0.9701492537313432\n"
          ]
        }
      ]
    },
    {
      "cell_type": "code",
      "source": [
        "df_clean.describe()"
      ],
      "metadata": {
        "colab": {
          "base_uri": "https://localhost:8080/",
          "height": 300
        },
        "id": "6ooir7d0yAt1",
        "outputId": "1ee5e8f9-6c74-4c16-f6de-5ef996654304"
      },
      "execution_count": null,
      "outputs": [
        {
          "output_type": "execute_result",
          "data": {
            "text/plain": [
              "       Pregnancies     Glucose  BloodPressure  SkinThickness     Insulin  \\\n",
              "count   559.000000  559.000000     559.000000     559.000000  559.000000   \n",
              "mean      3.613596  117.969589      71.601073      28.159213  128.576029   \n",
              "std       3.029880   28.485565       9.855592       6.374629   52.750724   \n",
              "min       0.000000   56.000000      44.000000      12.000000   16.000000   \n",
              "25%       1.000000   99.000000      65.000000      26.000000  105.000000   \n",
              "50%       3.000000  112.000000      72.000000      27.000000  105.000000   \n",
              "75%       6.000000  134.000000      78.000000      32.000000  171.000000   \n",
              "max      14.000000  198.000000      98.000000      42.000000  370.000000   \n",
              "\n",
              "              BMI  DiabetesPedigreeFunction         Age     Outcome  \n",
              "count  559.000000                559.000000  559.000000  559.000000  \n",
              "mean    31.687785                  0.424571   31.472272    0.345259  \n",
              "std      5.906462                  0.246314    9.542334    0.475879  \n",
              "min     18.200000                  0.078000   21.000000    0.000000  \n",
              "25%     27.600000                  0.239000   24.000000    0.000000  \n",
              "50%     31.200000                  0.365000   28.000000    0.000000  \n",
              "75%     35.375197                  0.555500   38.000000    1.000000  \n",
              "max     48.300000                  1.353000   67.000000    1.000000  "
            ],
            "text/html": [
              "\n",
              "  <div id=\"df-e2950346-6435-4d0d-822f-01b91cc46a01\">\n",
              "    <div class=\"colab-df-container\">\n",
              "      <div>\n",
              "<style scoped>\n",
              "    .dataframe tbody tr th:only-of-type {\n",
              "        vertical-align: middle;\n",
              "    }\n",
              "\n",
              "    .dataframe tbody tr th {\n",
              "        vertical-align: top;\n",
              "    }\n",
              "\n",
              "    .dataframe thead th {\n",
              "        text-align: right;\n",
              "    }\n",
              "</style>\n",
              "<table border=\"1\" class=\"dataframe\">\n",
              "  <thead>\n",
              "    <tr style=\"text-align: right;\">\n",
              "      <th></th>\n",
              "      <th>Pregnancies</th>\n",
              "      <th>Glucose</th>\n",
              "      <th>BloodPressure</th>\n",
              "      <th>SkinThickness</th>\n",
              "      <th>Insulin</th>\n",
              "      <th>BMI</th>\n",
              "      <th>DiabetesPedigreeFunction</th>\n",
              "      <th>Age</th>\n",
              "      <th>Outcome</th>\n",
              "    </tr>\n",
              "  </thead>\n",
              "  <tbody>\n",
              "    <tr>\n",
              "      <th>count</th>\n",
              "      <td>559.000000</td>\n",
              "      <td>559.000000</td>\n",
              "      <td>559.000000</td>\n",
              "      <td>559.000000</td>\n",
              "      <td>559.000000</td>\n",
              "      <td>559.000000</td>\n",
              "      <td>559.000000</td>\n",
              "      <td>559.000000</td>\n",
              "      <td>559.000000</td>\n",
              "    </tr>\n",
              "    <tr>\n",
              "      <th>mean</th>\n",
              "      <td>3.613596</td>\n",
              "      <td>117.969589</td>\n",
              "      <td>71.601073</td>\n",
              "      <td>28.159213</td>\n",
              "      <td>128.576029</td>\n",
              "      <td>31.687785</td>\n",
              "      <td>0.424571</td>\n",
              "      <td>31.472272</td>\n",
              "      <td>0.345259</td>\n",
              "    </tr>\n",
              "    <tr>\n",
              "      <th>std</th>\n",
              "      <td>3.029880</td>\n",
              "      <td>28.485565</td>\n",
              "      <td>9.855592</td>\n",
              "      <td>6.374629</td>\n",
              "      <td>52.750724</td>\n",
              "      <td>5.906462</td>\n",
              "      <td>0.246314</td>\n",
              "      <td>9.542334</td>\n",
              "      <td>0.475879</td>\n",
              "    </tr>\n",
              "    <tr>\n",
              "      <th>min</th>\n",
              "      <td>0.000000</td>\n",
              "      <td>56.000000</td>\n",
              "      <td>44.000000</td>\n",
              "      <td>12.000000</td>\n",
              "      <td>16.000000</td>\n",
              "      <td>18.200000</td>\n",
              "      <td>0.078000</td>\n",
              "      <td>21.000000</td>\n",
              "      <td>0.000000</td>\n",
              "    </tr>\n",
              "    <tr>\n",
              "      <th>25%</th>\n",
              "      <td>1.000000</td>\n",
              "      <td>99.000000</td>\n",
              "      <td>65.000000</td>\n",
              "      <td>26.000000</td>\n",
              "      <td>105.000000</td>\n",
              "      <td>27.600000</td>\n",
              "      <td>0.239000</td>\n",
              "      <td>24.000000</td>\n",
              "      <td>0.000000</td>\n",
              "    </tr>\n",
              "    <tr>\n",
              "      <th>50%</th>\n",
              "      <td>3.000000</td>\n",
              "      <td>112.000000</td>\n",
              "      <td>72.000000</td>\n",
              "      <td>27.000000</td>\n",
              "      <td>105.000000</td>\n",
              "      <td>31.200000</td>\n",
              "      <td>0.365000</td>\n",
              "      <td>28.000000</td>\n",
              "      <td>0.000000</td>\n",
              "    </tr>\n",
              "    <tr>\n",
              "      <th>75%</th>\n",
              "      <td>6.000000</td>\n",
              "      <td>134.000000</td>\n",
              "      <td>78.000000</td>\n",
              "      <td>32.000000</td>\n",
              "      <td>171.000000</td>\n",
              "      <td>35.375197</td>\n",
              "      <td>0.555500</td>\n",
              "      <td>38.000000</td>\n",
              "      <td>1.000000</td>\n",
              "    </tr>\n",
              "    <tr>\n",
              "      <th>max</th>\n",
              "      <td>14.000000</td>\n",
              "      <td>198.000000</td>\n",
              "      <td>98.000000</td>\n",
              "      <td>42.000000</td>\n",
              "      <td>370.000000</td>\n",
              "      <td>48.300000</td>\n",
              "      <td>1.353000</td>\n",
              "      <td>67.000000</td>\n",
              "      <td>1.000000</td>\n",
              "    </tr>\n",
              "  </tbody>\n",
              "</table>\n",
              "</div>\n",
              "      <button class=\"colab-df-convert\" onclick=\"convertToInteractive('df-e2950346-6435-4d0d-822f-01b91cc46a01')\"\n",
              "              title=\"Convert this dataframe to an interactive table.\"\n",
              "              style=\"display:none;\">\n",
              "        \n",
              "  <svg xmlns=\"http://www.w3.org/2000/svg\" height=\"24px\"viewBox=\"0 0 24 24\"\n",
              "       width=\"24px\">\n",
              "    <path d=\"M0 0h24v24H0V0z\" fill=\"none\"/>\n",
              "    <path d=\"M18.56 5.44l.94 2.06.94-2.06 2.06-.94-2.06-.94-.94-2.06-.94 2.06-2.06.94zm-11 1L8.5 8.5l.94-2.06 2.06-.94-2.06-.94L8.5 2.5l-.94 2.06-2.06.94zm10 10l.94 2.06.94-2.06 2.06-.94-2.06-.94-.94-2.06-.94 2.06-2.06.94z\"/><path d=\"M17.41 7.96l-1.37-1.37c-.4-.4-.92-.59-1.43-.59-.52 0-1.04.2-1.43.59L10.3 9.45l-7.72 7.72c-.78.78-.78 2.05 0 2.83L4 21.41c.39.39.9.59 1.41.59.51 0 1.02-.2 1.41-.59l7.78-7.78 2.81-2.81c.8-.78.8-2.07 0-2.86zM5.41 20L4 18.59l7.72-7.72 1.47 1.35L5.41 20z\"/>\n",
              "  </svg>\n",
              "      </button>\n",
              "      \n",
              "  <style>\n",
              "    .colab-df-container {\n",
              "      display:flex;\n",
              "      flex-wrap:wrap;\n",
              "      gap: 12px;\n",
              "    }\n",
              "\n",
              "    .colab-df-convert {\n",
              "      background-color: #E8F0FE;\n",
              "      border: none;\n",
              "      border-radius: 50%;\n",
              "      cursor: pointer;\n",
              "      display: none;\n",
              "      fill: #1967D2;\n",
              "      height: 32px;\n",
              "      padding: 0 0 0 0;\n",
              "      width: 32px;\n",
              "    }\n",
              "\n",
              "    .colab-df-convert:hover {\n",
              "      background-color: #E2EBFA;\n",
              "      box-shadow: 0px 1px 2px rgba(60, 64, 67, 0.3), 0px 1px 3px 1px rgba(60, 64, 67, 0.15);\n",
              "      fill: #174EA6;\n",
              "    }\n",
              "\n",
              "    [theme=dark] .colab-df-convert {\n",
              "      background-color: #3B4455;\n",
              "      fill: #D2E3FC;\n",
              "    }\n",
              "\n",
              "    [theme=dark] .colab-df-convert:hover {\n",
              "      background-color: #434B5C;\n",
              "      box-shadow: 0px 1px 3px 1px rgba(0, 0, 0, 0.15);\n",
              "      filter: drop-shadow(0px 1px 2px rgba(0, 0, 0, 0.3));\n",
              "      fill: #FFFFFF;\n",
              "    }\n",
              "  </style>\n",
              "\n",
              "      <script>\n",
              "        const buttonEl =\n",
              "          document.querySelector('#df-e2950346-6435-4d0d-822f-01b91cc46a01 button.colab-df-convert');\n",
              "        buttonEl.style.display =\n",
              "          google.colab.kernel.accessAllowed ? 'block' : 'none';\n",
              "\n",
              "        async function convertToInteractive(key) {\n",
              "          const element = document.querySelector('#df-e2950346-6435-4d0d-822f-01b91cc46a01');\n",
              "          const dataTable =\n",
              "            await google.colab.kernel.invokeFunction('convertToInteractive',\n",
              "                                                     [key], {});\n",
              "          if (!dataTable) return;\n",
              "\n",
              "          const docLinkHtml = 'Like what you see? Visit the ' +\n",
              "            '<a target=\"_blank\" href=https://colab.research.google.com/notebooks/data_table.ipynb>data table notebook</a>'\n",
              "            + ' to learn more about interactive tables.';\n",
              "          element.innerHTML = '';\n",
              "          dataTable['output_type'] = 'display_data';\n",
              "          await google.colab.output.renderOutput(dataTable, element);\n",
              "          const docLink = document.createElement('div');\n",
              "          docLink.innerHTML = docLinkHtml;\n",
              "          element.appendChild(docLink);\n",
              "        }\n",
              "      </script>\n",
              "    </div>\n",
              "  </div>\n",
              "  "
            ]
          },
          "metadata": {},
          "execution_count": 97
        }
      ]
    },
    {
      "cell_type": "code",
      "source": [],
      "metadata": {
        "id": "E8R49QjYyDNL"
      },
      "execution_count": null,
      "outputs": []
    }
  ]
}